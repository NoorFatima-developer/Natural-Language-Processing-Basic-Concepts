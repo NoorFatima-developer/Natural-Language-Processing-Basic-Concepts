{
  "nbformat": 4,
  "nbformat_minor": 0,
  "metadata": {
    "colab": {
      "provenance": []
    },
    "kernelspec": {
      "name": "python3",
      "display_name": "Python 3"
    },
    "language_info": {
      "name": "python"
    },
    "widgets": {
      "application/vnd.jupyter.widget-state+json": {
        "2fc2f88938164649b75fccade7c4d724": {
          "model_module": "@jupyter-widgets/controls",
          "model_name": "HBoxModel",
          "model_module_version": "1.5.0",
          "state": {
            "_dom_classes": [],
            "_model_module": "@jupyter-widgets/controls",
            "_model_module_version": "1.5.0",
            "_model_name": "HBoxModel",
            "_view_count": null,
            "_view_module": "@jupyter-widgets/controls",
            "_view_module_version": "1.5.0",
            "_view_name": "HBoxView",
            "box_style": "",
            "children": [
              "IPY_MODEL_42f3e284e5e945ddafdb09365c4eeff8",
              "IPY_MODEL_7c109de4de424ebb8d08a5b3ffc2e7f5",
              "IPY_MODEL_627dec2c7fac48e2b78775d2ad925de7"
            ],
            "layout": "IPY_MODEL_8d2098eab00c4b299e9c6ee5b9b77470"
          }
        },
        "42f3e284e5e945ddafdb09365c4eeff8": {
          "model_module": "@jupyter-widgets/controls",
          "model_name": "HTMLModel",
          "model_module_version": "1.5.0",
          "state": {
            "_dom_classes": [],
            "_model_module": "@jupyter-widgets/controls",
            "_model_module_version": "1.5.0",
            "_model_name": "HTMLModel",
            "_view_count": null,
            "_view_module": "@jupyter-widgets/controls",
            "_view_module_version": "1.5.0",
            "_view_name": "HTMLView",
            "description": "",
            "description_tooltip": null,
            "layout": "IPY_MODEL_e736ac5891d44d7283316159c925d7ec",
            "placeholder": "​",
            "style": "IPY_MODEL_e02067d6d30149a4b9a8bb296cb5b14d",
            "value": "vocab.json: 100%"
          }
        },
        "7c109de4de424ebb8d08a5b3ffc2e7f5": {
          "model_module": "@jupyter-widgets/controls",
          "model_name": "FloatProgressModel",
          "model_module_version": "1.5.0",
          "state": {
            "_dom_classes": [],
            "_model_module": "@jupyter-widgets/controls",
            "_model_module_version": "1.5.0",
            "_model_name": "FloatProgressModel",
            "_view_count": null,
            "_view_module": "@jupyter-widgets/controls",
            "_view_module_version": "1.5.0",
            "_view_name": "ProgressView",
            "bar_style": "success",
            "description": "",
            "description_tooltip": null,
            "layout": "IPY_MODEL_f4d046bd2c5d48a0b167d337e27539f3",
            "max": 1042301,
            "min": 0,
            "orientation": "horizontal",
            "style": "IPY_MODEL_3f063f95ba894637b5d5c17992adf68c",
            "value": 1042301
          }
        },
        "627dec2c7fac48e2b78775d2ad925de7": {
          "model_module": "@jupyter-widgets/controls",
          "model_name": "HTMLModel",
          "model_module_version": "1.5.0",
          "state": {
            "_dom_classes": [],
            "_model_module": "@jupyter-widgets/controls",
            "_model_module_version": "1.5.0",
            "_model_name": "HTMLModel",
            "_view_count": null,
            "_view_module": "@jupyter-widgets/controls",
            "_view_module_version": "1.5.0",
            "_view_name": "HTMLView",
            "description": "",
            "description_tooltip": null,
            "layout": "IPY_MODEL_d6d78ef6f36544cba562044e74369630",
            "placeholder": "​",
            "style": "IPY_MODEL_412da3ea76fa4afcbfa2abe22b61293f",
            "value": " 1.04M/1.04M [00:00&lt;00:00, 10.6MB/s]"
          }
        },
        "8d2098eab00c4b299e9c6ee5b9b77470": {
          "model_module": "@jupyter-widgets/base",
          "model_name": "LayoutModel",
          "model_module_version": "1.2.0",
          "state": {
            "_model_module": "@jupyter-widgets/base",
            "_model_module_version": "1.2.0",
            "_model_name": "LayoutModel",
            "_view_count": null,
            "_view_module": "@jupyter-widgets/base",
            "_view_module_version": "1.2.0",
            "_view_name": "LayoutView",
            "align_content": null,
            "align_items": null,
            "align_self": null,
            "border": null,
            "bottom": null,
            "display": null,
            "flex": null,
            "flex_flow": null,
            "grid_area": null,
            "grid_auto_columns": null,
            "grid_auto_flow": null,
            "grid_auto_rows": null,
            "grid_column": null,
            "grid_gap": null,
            "grid_row": null,
            "grid_template_areas": null,
            "grid_template_columns": null,
            "grid_template_rows": null,
            "height": null,
            "justify_content": null,
            "justify_items": null,
            "left": null,
            "margin": null,
            "max_height": null,
            "max_width": null,
            "min_height": null,
            "min_width": null,
            "object_fit": null,
            "object_position": null,
            "order": null,
            "overflow": null,
            "overflow_x": null,
            "overflow_y": null,
            "padding": null,
            "right": null,
            "top": null,
            "visibility": null,
            "width": null
          }
        },
        "e736ac5891d44d7283316159c925d7ec": {
          "model_module": "@jupyter-widgets/base",
          "model_name": "LayoutModel",
          "model_module_version": "1.2.0",
          "state": {
            "_model_module": "@jupyter-widgets/base",
            "_model_module_version": "1.2.0",
            "_model_name": "LayoutModel",
            "_view_count": null,
            "_view_module": "@jupyter-widgets/base",
            "_view_module_version": "1.2.0",
            "_view_name": "LayoutView",
            "align_content": null,
            "align_items": null,
            "align_self": null,
            "border": null,
            "bottom": null,
            "display": null,
            "flex": null,
            "flex_flow": null,
            "grid_area": null,
            "grid_auto_columns": null,
            "grid_auto_flow": null,
            "grid_auto_rows": null,
            "grid_column": null,
            "grid_gap": null,
            "grid_row": null,
            "grid_template_areas": null,
            "grid_template_columns": null,
            "grid_template_rows": null,
            "height": null,
            "justify_content": null,
            "justify_items": null,
            "left": null,
            "margin": null,
            "max_height": null,
            "max_width": null,
            "min_height": null,
            "min_width": null,
            "object_fit": null,
            "object_position": null,
            "order": null,
            "overflow": null,
            "overflow_x": null,
            "overflow_y": null,
            "padding": null,
            "right": null,
            "top": null,
            "visibility": null,
            "width": null
          }
        },
        "e02067d6d30149a4b9a8bb296cb5b14d": {
          "model_module": "@jupyter-widgets/controls",
          "model_name": "DescriptionStyleModel",
          "model_module_version": "1.5.0",
          "state": {
            "_model_module": "@jupyter-widgets/controls",
            "_model_module_version": "1.5.0",
            "_model_name": "DescriptionStyleModel",
            "_view_count": null,
            "_view_module": "@jupyter-widgets/base",
            "_view_module_version": "1.2.0",
            "_view_name": "StyleView",
            "description_width": ""
          }
        },
        "f4d046bd2c5d48a0b167d337e27539f3": {
          "model_module": "@jupyter-widgets/base",
          "model_name": "LayoutModel",
          "model_module_version": "1.2.0",
          "state": {
            "_model_module": "@jupyter-widgets/base",
            "_model_module_version": "1.2.0",
            "_model_name": "LayoutModel",
            "_view_count": null,
            "_view_module": "@jupyter-widgets/base",
            "_view_module_version": "1.2.0",
            "_view_name": "LayoutView",
            "align_content": null,
            "align_items": null,
            "align_self": null,
            "border": null,
            "bottom": null,
            "display": null,
            "flex": null,
            "flex_flow": null,
            "grid_area": null,
            "grid_auto_columns": null,
            "grid_auto_flow": null,
            "grid_auto_rows": null,
            "grid_column": null,
            "grid_gap": null,
            "grid_row": null,
            "grid_template_areas": null,
            "grid_template_columns": null,
            "grid_template_rows": null,
            "height": null,
            "justify_content": null,
            "justify_items": null,
            "left": null,
            "margin": null,
            "max_height": null,
            "max_width": null,
            "min_height": null,
            "min_width": null,
            "object_fit": null,
            "object_position": null,
            "order": null,
            "overflow": null,
            "overflow_x": null,
            "overflow_y": null,
            "padding": null,
            "right": null,
            "top": null,
            "visibility": null,
            "width": null
          }
        },
        "3f063f95ba894637b5d5c17992adf68c": {
          "model_module": "@jupyter-widgets/controls",
          "model_name": "ProgressStyleModel",
          "model_module_version": "1.5.0",
          "state": {
            "_model_module": "@jupyter-widgets/controls",
            "_model_module_version": "1.5.0",
            "_model_name": "ProgressStyleModel",
            "_view_count": null,
            "_view_module": "@jupyter-widgets/base",
            "_view_module_version": "1.2.0",
            "_view_name": "StyleView",
            "bar_color": null,
            "description_width": ""
          }
        },
        "d6d78ef6f36544cba562044e74369630": {
          "model_module": "@jupyter-widgets/base",
          "model_name": "LayoutModel",
          "model_module_version": "1.2.0",
          "state": {
            "_model_module": "@jupyter-widgets/base",
            "_model_module_version": "1.2.0",
            "_model_name": "LayoutModel",
            "_view_count": null,
            "_view_module": "@jupyter-widgets/base",
            "_view_module_version": "1.2.0",
            "_view_name": "LayoutView",
            "align_content": null,
            "align_items": null,
            "align_self": null,
            "border": null,
            "bottom": null,
            "display": null,
            "flex": null,
            "flex_flow": null,
            "grid_area": null,
            "grid_auto_columns": null,
            "grid_auto_flow": null,
            "grid_auto_rows": null,
            "grid_column": null,
            "grid_gap": null,
            "grid_row": null,
            "grid_template_areas": null,
            "grid_template_columns": null,
            "grid_template_rows": null,
            "height": null,
            "justify_content": null,
            "justify_items": null,
            "left": null,
            "margin": null,
            "max_height": null,
            "max_width": null,
            "min_height": null,
            "min_width": null,
            "object_fit": null,
            "object_position": null,
            "order": null,
            "overflow": null,
            "overflow_x": null,
            "overflow_y": null,
            "padding": null,
            "right": null,
            "top": null,
            "visibility": null,
            "width": null
          }
        },
        "412da3ea76fa4afcbfa2abe22b61293f": {
          "model_module": "@jupyter-widgets/controls",
          "model_name": "DescriptionStyleModel",
          "model_module_version": "1.5.0",
          "state": {
            "_model_module": "@jupyter-widgets/controls",
            "_model_module_version": "1.5.0",
            "_model_name": "DescriptionStyleModel",
            "_view_count": null,
            "_view_module": "@jupyter-widgets/base",
            "_view_module_version": "1.2.0",
            "_view_name": "StyleView",
            "description_width": ""
          }
        },
        "e127259c3b4e418cabad342659217bf7": {
          "model_module": "@jupyter-widgets/controls",
          "model_name": "HBoxModel",
          "model_module_version": "1.5.0",
          "state": {
            "_dom_classes": [],
            "_model_module": "@jupyter-widgets/controls",
            "_model_module_version": "1.5.0",
            "_model_name": "HBoxModel",
            "_view_count": null,
            "_view_module": "@jupyter-widgets/controls",
            "_view_module_version": "1.5.0",
            "_view_name": "HBoxView",
            "box_style": "",
            "children": [
              "IPY_MODEL_9010ab8c679c4545b08c6a4b9f1406d2",
              "IPY_MODEL_d97247aecc2048a0a1de34a7ee9e608d",
              "IPY_MODEL_a1dbf3114bde42829ea0a96452da0aa1"
            ],
            "layout": "IPY_MODEL_e4512ea549eb43218a6bc88b00e1b731"
          }
        },
        "9010ab8c679c4545b08c6a4b9f1406d2": {
          "model_module": "@jupyter-widgets/controls",
          "model_name": "HTMLModel",
          "model_module_version": "1.5.0",
          "state": {
            "_dom_classes": [],
            "_model_module": "@jupyter-widgets/controls",
            "_model_module_version": "1.5.0",
            "_model_name": "HTMLModel",
            "_view_count": null,
            "_view_module": "@jupyter-widgets/controls",
            "_view_module_version": "1.5.0",
            "_view_name": "HTMLView",
            "description": "",
            "description_tooltip": null,
            "layout": "IPY_MODEL_c4f94d3505df4725adf3a4e754f079e3",
            "placeholder": "​",
            "style": "IPY_MODEL_02ee3506849c4aa3848e6308f91c3ce5",
            "value": "merges.txt: 100%"
          }
        },
        "d97247aecc2048a0a1de34a7ee9e608d": {
          "model_module": "@jupyter-widgets/controls",
          "model_name": "FloatProgressModel",
          "model_module_version": "1.5.0",
          "state": {
            "_dom_classes": [],
            "_model_module": "@jupyter-widgets/controls",
            "_model_module_version": "1.5.0",
            "_model_name": "FloatProgressModel",
            "_view_count": null,
            "_view_module": "@jupyter-widgets/controls",
            "_view_module_version": "1.5.0",
            "_view_name": "ProgressView",
            "bar_style": "success",
            "description": "",
            "description_tooltip": null,
            "layout": "IPY_MODEL_62f8cdf2dfe34073ac5fe7de118d4fa6",
            "max": 456318,
            "min": 0,
            "orientation": "horizontal",
            "style": "IPY_MODEL_df067ce1d045494ea6af7acb92228460",
            "value": 456318
          }
        },
        "a1dbf3114bde42829ea0a96452da0aa1": {
          "model_module": "@jupyter-widgets/controls",
          "model_name": "HTMLModel",
          "model_module_version": "1.5.0",
          "state": {
            "_dom_classes": [],
            "_model_module": "@jupyter-widgets/controls",
            "_model_module_version": "1.5.0",
            "_model_name": "HTMLModel",
            "_view_count": null,
            "_view_module": "@jupyter-widgets/controls",
            "_view_module_version": "1.5.0",
            "_view_name": "HTMLView",
            "description": "",
            "description_tooltip": null,
            "layout": "IPY_MODEL_2854e859b4fa4e5abb21a4cd58887ce5",
            "placeholder": "​",
            "style": "IPY_MODEL_44e01aa369ba45d49ab5cf7e99738d54",
            "value": " 456k/456k [00:00&lt;00:00, 9.34MB/s]"
          }
        },
        "e4512ea549eb43218a6bc88b00e1b731": {
          "model_module": "@jupyter-widgets/base",
          "model_name": "LayoutModel",
          "model_module_version": "1.2.0",
          "state": {
            "_model_module": "@jupyter-widgets/base",
            "_model_module_version": "1.2.0",
            "_model_name": "LayoutModel",
            "_view_count": null,
            "_view_module": "@jupyter-widgets/base",
            "_view_module_version": "1.2.0",
            "_view_name": "LayoutView",
            "align_content": null,
            "align_items": null,
            "align_self": null,
            "border": null,
            "bottom": null,
            "display": null,
            "flex": null,
            "flex_flow": null,
            "grid_area": null,
            "grid_auto_columns": null,
            "grid_auto_flow": null,
            "grid_auto_rows": null,
            "grid_column": null,
            "grid_gap": null,
            "grid_row": null,
            "grid_template_areas": null,
            "grid_template_columns": null,
            "grid_template_rows": null,
            "height": null,
            "justify_content": null,
            "justify_items": null,
            "left": null,
            "margin": null,
            "max_height": null,
            "max_width": null,
            "min_height": null,
            "min_width": null,
            "object_fit": null,
            "object_position": null,
            "order": null,
            "overflow": null,
            "overflow_x": null,
            "overflow_y": null,
            "padding": null,
            "right": null,
            "top": null,
            "visibility": null,
            "width": null
          }
        },
        "c4f94d3505df4725adf3a4e754f079e3": {
          "model_module": "@jupyter-widgets/base",
          "model_name": "LayoutModel",
          "model_module_version": "1.2.0",
          "state": {
            "_model_module": "@jupyter-widgets/base",
            "_model_module_version": "1.2.0",
            "_model_name": "LayoutModel",
            "_view_count": null,
            "_view_module": "@jupyter-widgets/base",
            "_view_module_version": "1.2.0",
            "_view_name": "LayoutView",
            "align_content": null,
            "align_items": null,
            "align_self": null,
            "border": null,
            "bottom": null,
            "display": null,
            "flex": null,
            "flex_flow": null,
            "grid_area": null,
            "grid_auto_columns": null,
            "grid_auto_flow": null,
            "grid_auto_rows": null,
            "grid_column": null,
            "grid_gap": null,
            "grid_row": null,
            "grid_template_areas": null,
            "grid_template_columns": null,
            "grid_template_rows": null,
            "height": null,
            "justify_content": null,
            "justify_items": null,
            "left": null,
            "margin": null,
            "max_height": null,
            "max_width": null,
            "min_height": null,
            "min_width": null,
            "object_fit": null,
            "object_position": null,
            "order": null,
            "overflow": null,
            "overflow_x": null,
            "overflow_y": null,
            "padding": null,
            "right": null,
            "top": null,
            "visibility": null,
            "width": null
          }
        },
        "02ee3506849c4aa3848e6308f91c3ce5": {
          "model_module": "@jupyter-widgets/controls",
          "model_name": "DescriptionStyleModel",
          "model_module_version": "1.5.0",
          "state": {
            "_model_module": "@jupyter-widgets/controls",
            "_model_module_version": "1.5.0",
            "_model_name": "DescriptionStyleModel",
            "_view_count": null,
            "_view_module": "@jupyter-widgets/base",
            "_view_module_version": "1.2.0",
            "_view_name": "StyleView",
            "description_width": ""
          }
        },
        "62f8cdf2dfe34073ac5fe7de118d4fa6": {
          "model_module": "@jupyter-widgets/base",
          "model_name": "LayoutModel",
          "model_module_version": "1.2.0",
          "state": {
            "_model_module": "@jupyter-widgets/base",
            "_model_module_version": "1.2.0",
            "_model_name": "LayoutModel",
            "_view_count": null,
            "_view_module": "@jupyter-widgets/base",
            "_view_module_version": "1.2.0",
            "_view_name": "LayoutView",
            "align_content": null,
            "align_items": null,
            "align_self": null,
            "border": null,
            "bottom": null,
            "display": null,
            "flex": null,
            "flex_flow": null,
            "grid_area": null,
            "grid_auto_columns": null,
            "grid_auto_flow": null,
            "grid_auto_rows": null,
            "grid_column": null,
            "grid_gap": null,
            "grid_row": null,
            "grid_template_areas": null,
            "grid_template_columns": null,
            "grid_template_rows": null,
            "height": null,
            "justify_content": null,
            "justify_items": null,
            "left": null,
            "margin": null,
            "max_height": null,
            "max_width": null,
            "min_height": null,
            "min_width": null,
            "object_fit": null,
            "object_position": null,
            "order": null,
            "overflow": null,
            "overflow_x": null,
            "overflow_y": null,
            "padding": null,
            "right": null,
            "top": null,
            "visibility": null,
            "width": null
          }
        },
        "df067ce1d045494ea6af7acb92228460": {
          "model_module": "@jupyter-widgets/controls",
          "model_name": "ProgressStyleModel",
          "model_module_version": "1.5.0",
          "state": {
            "_model_module": "@jupyter-widgets/controls",
            "_model_module_version": "1.5.0",
            "_model_name": "ProgressStyleModel",
            "_view_count": null,
            "_view_module": "@jupyter-widgets/base",
            "_view_module_version": "1.2.0",
            "_view_name": "StyleView",
            "bar_color": null,
            "description_width": ""
          }
        },
        "2854e859b4fa4e5abb21a4cd58887ce5": {
          "model_module": "@jupyter-widgets/base",
          "model_name": "LayoutModel",
          "model_module_version": "1.2.0",
          "state": {
            "_model_module": "@jupyter-widgets/base",
            "_model_module_version": "1.2.0",
            "_model_name": "LayoutModel",
            "_view_count": null,
            "_view_module": "@jupyter-widgets/base",
            "_view_module_version": "1.2.0",
            "_view_name": "LayoutView",
            "align_content": null,
            "align_items": null,
            "align_self": null,
            "border": null,
            "bottom": null,
            "display": null,
            "flex": null,
            "flex_flow": null,
            "grid_area": null,
            "grid_auto_columns": null,
            "grid_auto_flow": null,
            "grid_auto_rows": null,
            "grid_column": null,
            "grid_gap": null,
            "grid_row": null,
            "grid_template_areas": null,
            "grid_template_columns": null,
            "grid_template_rows": null,
            "height": null,
            "justify_content": null,
            "justify_items": null,
            "left": null,
            "margin": null,
            "max_height": null,
            "max_width": null,
            "min_height": null,
            "min_width": null,
            "object_fit": null,
            "object_position": null,
            "order": null,
            "overflow": null,
            "overflow_x": null,
            "overflow_y": null,
            "padding": null,
            "right": null,
            "top": null,
            "visibility": null,
            "width": null
          }
        },
        "44e01aa369ba45d49ab5cf7e99738d54": {
          "model_module": "@jupyter-widgets/controls",
          "model_name": "DescriptionStyleModel",
          "model_module_version": "1.5.0",
          "state": {
            "_model_module": "@jupyter-widgets/controls",
            "_model_module_version": "1.5.0",
            "_model_name": "DescriptionStyleModel",
            "_view_count": null,
            "_view_module": "@jupyter-widgets/base",
            "_view_module_version": "1.2.0",
            "_view_name": "StyleView",
            "description_width": ""
          }
        },
        "c32c8917240e4bac8c48d451fc520c14": {
          "model_module": "@jupyter-widgets/controls",
          "model_name": "HBoxModel",
          "model_module_version": "1.5.0",
          "state": {
            "_dom_classes": [],
            "_model_module": "@jupyter-widgets/controls",
            "_model_module_version": "1.5.0",
            "_model_name": "HBoxModel",
            "_view_count": null,
            "_view_module": "@jupyter-widgets/controls",
            "_view_module_version": "1.5.0",
            "_view_name": "HBoxView",
            "box_style": "",
            "children": [
              "IPY_MODEL_8398dcef1272471a86f1bd1896c4c143",
              "IPY_MODEL_ad441812851e43acbe5e30eecfca3033",
              "IPY_MODEL_3cecb390df6f40d2af481541c53a4246"
            ],
            "layout": "IPY_MODEL_c33c76ad7cb64d0dbff0aaa0900ed92f"
          }
        },
        "8398dcef1272471a86f1bd1896c4c143": {
          "model_module": "@jupyter-widgets/controls",
          "model_name": "HTMLModel",
          "model_module_version": "1.5.0",
          "state": {
            "_dom_classes": [],
            "_model_module": "@jupyter-widgets/controls",
            "_model_module_version": "1.5.0",
            "_model_name": "HTMLModel",
            "_view_count": null,
            "_view_module": "@jupyter-widgets/controls",
            "_view_module_version": "1.5.0",
            "_view_name": "HTMLView",
            "description": "",
            "description_tooltip": null,
            "layout": "IPY_MODEL_f758efc915184c65a0598335371b451c",
            "placeholder": "​",
            "style": "IPY_MODEL_d7b6789551f44164a4897e283e12571e",
            "value": "tokenizer.json: 100%"
          }
        },
        "ad441812851e43acbe5e30eecfca3033": {
          "model_module": "@jupyter-widgets/controls",
          "model_name": "FloatProgressModel",
          "model_module_version": "1.5.0",
          "state": {
            "_dom_classes": [],
            "_model_module": "@jupyter-widgets/controls",
            "_model_module_version": "1.5.0",
            "_model_name": "FloatProgressModel",
            "_view_count": null,
            "_view_module": "@jupyter-widgets/controls",
            "_view_module_version": "1.5.0",
            "_view_name": "ProgressView",
            "bar_style": "success",
            "description": "",
            "description_tooltip": null,
            "layout": "IPY_MODEL_5cba5c6c14b0495e9b9bd38ff545164b",
            "max": 1355256,
            "min": 0,
            "orientation": "horizontal",
            "style": "IPY_MODEL_a634a74f8dac4abfa7f4dc7a6283b051",
            "value": 1355256
          }
        },
        "3cecb390df6f40d2af481541c53a4246": {
          "model_module": "@jupyter-widgets/controls",
          "model_name": "HTMLModel",
          "model_module_version": "1.5.0",
          "state": {
            "_dom_classes": [],
            "_model_module": "@jupyter-widgets/controls",
            "_model_module_version": "1.5.0",
            "_model_name": "HTMLModel",
            "_view_count": null,
            "_view_module": "@jupyter-widgets/controls",
            "_view_module_version": "1.5.0",
            "_view_name": "HTMLView",
            "description": "",
            "description_tooltip": null,
            "layout": "IPY_MODEL_8a58632a730b491497e7c90689b32202",
            "placeholder": "​",
            "style": "IPY_MODEL_4ddee46e352c45c588a925722dcc1080",
            "value": " 1.36M/1.36M [00:00&lt;00:00, 12.5MB/s]"
          }
        },
        "c33c76ad7cb64d0dbff0aaa0900ed92f": {
          "model_module": "@jupyter-widgets/base",
          "model_name": "LayoutModel",
          "model_module_version": "1.2.0",
          "state": {
            "_model_module": "@jupyter-widgets/base",
            "_model_module_version": "1.2.0",
            "_model_name": "LayoutModel",
            "_view_count": null,
            "_view_module": "@jupyter-widgets/base",
            "_view_module_version": "1.2.0",
            "_view_name": "LayoutView",
            "align_content": null,
            "align_items": null,
            "align_self": null,
            "border": null,
            "bottom": null,
            "display": null,
            "flex": null,
            "flex_flow": null,
            "grid_area": null,
            "grid_auto_columns": null,
            "grid_auto_flow": null,
            "grid_auto_rows": null,
            "grid_column": null,
            "grid_gap": null,
            "grid_row": null,
            "grid_template_areas": null,
            "grid_template_columns": null,
            "grid_template_rows": null,
            "height": null,
            "justify_content": null,
            "justify_items": null,
            "left": null,
            "margin": null,
            "max_height": null,
            "max_width": null,
            "min_height": null,
            "min_width": null,
            "object_fit": null,
            "object_position": null,
            "order": null,
            "overflow": null,
            "overflow_x": null,
            "overflow_y": null,
            "padding": null,
            "right": null,
            "top": null,
            "visibility": null,
            "width": null
          }
        },
        "f758efc915184c65a0598335371b451c": {
          "model_module": "@jupyter-widgets/base",
          "model_name": "LayoutModel",
          "model_module_version": "1.2.0",
          "state": {
            "_model_module": "@jupyter-widgets/base",
            "_model_module_version": "1.2.0",
            "_model_name": "LayoutModel",
            "_view_count": null,
            "_view_module": "@jupyter-widgets/base",
            "_view_module_version": "1.2.0",
            "_view_name": "LayoutView",
            "align_content": null,
            "align_items": null,
            "align_self": null,
            "border": null,
            "bottom": null,
            "display": null,
            "flex": null,
            "flex_flow": null,
            "grid_area": null,
            "grid_auto_columns": null,
            "grid_auto_flow": null,
            "grid_auto_rows": null,
            "grid_column": null,
            "grid_gap": null,
            "grid_row": null,
            "grid_template_areas": null,
            "grid_template_columns": null,
            "grid_template_rows": null,
            "height": null,
            "justify_content": null,
            "justify_items": null,
            "left": null,
            "margin": null,
            "max_height": null,
            "max_width": null,
            "min_height": null,
            "min_width": null,
            "object_fit": null,
            "object_position": null,
            "order": null,
            "overflow": null,
            "overflow_x": null,
            "overflow_y": null,
            "padding": null,
            "right": null,
            "top": null,
            "visibility": null,
            "width": null
          }
        },
        "d7b6789551f44164a4897e283e12571e": {
          "model_module": "@jupyter-widgets/controls",
          "model_name": "DescriptionStyleModel",
          "model_module_version": "1.5.0",
          "state": {
            "_model_module": "@jupyter-widgets/controls",
            "_model_module_version": "1.5.0",
            "_model_name": "DescriptionStyleModel",
            "_view_count": null,
            "_view_module": "@jupyter-widgets/base",
            "_view_module_version": "1.2.0",
            "_view_name": "StyleView",
            "description_width": ""
          }
        },
        "5cba5c6c14b0495e9b9bd38ff545164b": {
          "model_module": "@jupyter-widgets/base",
          "model_name": "LayoutModel",
          "model_module_version": "1.2.0",
          "state": {
            "_model_module": "@jupyter-widgets/base",
            "_model_module_version": "1.2.0",
            "_model_name": "LayoutModel",
            "_view_count": null,
            "_view_module": "@jupyter-widgets/base",
            "_view_module_version": "1.2.0",
            "_view_name": "LayoutView",
            "align_content": null,
            "align_items": null,
            "align_self": null,
            "border": null,
            "bottom": null,
            "display": null,
            "flex": null,
            "flex_flow": null,
            "grid_area": null,
            "grid_auto_columns": null,
            "grid_auto_flow": null,
            "grid_auto_rows": null,
            "grid_column": null,
            "grid_gap": null,
            "grid_row": null,
            "grid_template_areas": null,
            "grid_template_columns": null,
            "grid_template_rows": null,
            "height": null,
            "justify_content": null,
            "justify_items": null,
            "left": null,
            "margin": null,
            "max_height": null,
            "max_width": null,
            "min_height": null,
            "min_width": null,
            "object_fit": null,
            "object_position": null,
            "order": null,
            "overflow": null,
            "overflow_x": null,
            "overflow_y": null,
            "padding": null,
            "right": null,
            "top": null,
            "visibility": null,
            "width": null
          }
        },
        "a634a74f8dac4abfa7f4dc7a6283b051": {
          "model_module": "@jupyter-widgets/controls",
          "model_name": "ProgressStyleModel",
          "model_module_version": "1.5.0",
          "state": {
            "_model_module": "@jupyter-widgets/controls",
            "_model_module_version": "1.5.0",
            "_model_name": "ProgressStyleModel",
            "_view_count": null,
            "_view_module": "@jupyter-widgets/base",
            "_view_module_version": "1.2.0",
            "_view_name": "StyleView",
            "bar_color": null,
            "description_width": ""
          }
        },
        "8a58632a730b491497e7c90689b32202": {
          "model_module": "@jupyter-widgets/base",
          "model_name": "LayoutModel",
          "model_module_version": "1.2.0",
          "state": {
            "_model_module": "@jupyter-widgets/base",
            "_model_module_version": "1.2.0",
            "_model_name": "LayoutModel",
            "_view_count": null,
            "_view_module": "@jupyter-widgets/base",
            "_view_module_version": "1.2.0",
            "_view_name": "LayoutView",
            "align_content": null,
            "align_items": null,
            "align_self": null,
            "border": null,
            "bottom": null,
            "display": null,
            "flex": null,
            "flex_flow": null,
            "grid_area": null,
            "grid_auto_columns": null,
            "grid_auto_flow": null,
            "grid_auto_rows": null,
            "grid_column": null,
            "grid_gap": null,
            "grid_row": null,
            "grid_template_areas": null,
            "grid_template_columns": null,
            "grid_template_rows": null,
            "height": null,
            "justify_content": null,
            "justify_items": null,
            "left": null,
            "margin": null,
            "max_height": null,
            "max_width": null,
            "min_height": null,
            "min_width": null,
            "object_fit": null,
            "object_position": null,
            "order": null,
            "overflow": null,
            "overflow_x": null,
            "overflow_y": null,
            "padding": null,
            "right": null,
            "top": null,
            "visibility": null,
            "width": null
          }
        },
        "4ddee46e352c45c588a925722dcc1080": {
          "model_module": "@jupyter-widgets/controls",
          "model_name": "DescriptionStyleModel",
          "model_module_version": "1.5.0",
          "state": {
            "_model_module": "@jupyter-widgets/controls",
            "_model_module_version": "1.5.0",
            "_model_name": "DescriptionStyleModel",
            "_view_count": null,
            "_view_module": "@jupyter-widgets/base",
            "_view_module_version": "1.2.0",
            "_view_name": "StyleView",
            "description_width": ""
          }
        },
        "e7658c78047e42c48e7e5babddf6dd45": {
          "model_module": "@jupyter-widgets/controls",
          "model_name": "HBoxModel",
          "model_module_version": "1.5.0",
          "state": {
            "_dom_classes": [],
            "_model_module": "@jupyter-widgets/controls",
            "_model_module_version": "1.5.0",
            "_model_name": "HBoxModel",
            "_view_count": null,
            "_view_module": "@jupyter-widgets/controls",
            "_view_module_version": "1.5.0",
            "_view_name": "HBoxView",
            "box_style": "",
            "children": [
              "IPY_MODEL_d0bc94a4b7ad4685b53c13170db518a6",
              "IPY_MODEL_ba5f792155f94450b488a618456280de",
              "IPY_MODEL_c7259052f3e64bac95114a74ea0f0891"
            ],
            "layout": "IPY_MODEL_bdb5e924f7e1420fbc82b28ff3bfa6c1"
          }
        },
        "d0bc94a4b7ad4685b53c13170db518a6": {
          "model_module": "@jupyter-widgets/controls",
          "model_name": "HTMLModel",
          "model_module_version": "1.5.0",
          "state": {
            "_dom_classes": [],
            "_model_module": "@jupyter-widgets/controls",
            "_model_module_version": "1.5.0",
            "_model_name": "HTMLModel",
            "_view_count": null,
            "_view_module": "@jupyter-widgets/controls",
            "_view_module_version": "1.5.0",
            "_view_name": "HTMLView",
            "description": "",
            "description_tooltip": null,
            "layout": "IPY_MODEL_1a456534972d48f9a2f91fc93095105f",
            "placeholder": "​",
            "style": "IPY_MODEL_cfa5344d310b4c5aacfd639e75817b84",
            "value": "config.json: 100%"
          }
        },
        "ba5f792155f94450b488a618456280de": {
          "model_module": "@jupyter-widgets/controls",
          "model_name": "FloatProgressModel",
          "model_module_version": "1.5.0",
          "state": {
            "_dom_classes": [],
            "_model_module": "@jupyter-widgets/controls",
            "_model_module_version": "1.5.0",
            "_model_name": "FloatProgressModel",
            "_view_count": null,
            "_view_module": "@jupyter-widgets/controls",
            "_view_module_version": "1.5.0",
            "_view_name": "ProgressView",
            "bar_style": "success",
            "description": "",
            "description_tooltip": null,
            "layout": "IPY_MODEL_00e4fc8a4e2340dc80be9d07c353a361",
            "max": 665,
            "min": 0,
            "orientation": "horizontal",
            "style": "IPY_MODEL_567cd2bf52e94f56a407c8f35d133823",
            "value": 665
          }
        },
        "c7259052f3e64bac95114a74ea0f0891": {
          "model_module": "@jupyter-widgets/controls",
          "model_name": "HTMLModel",
          "model_module_version": "1.5.0",
          "state": {
            "_dom_classes": [],
            "_model_module": "@jupyter-widgets/controls",
            "_model_module_version": "1.5.0",
            "_model_name": "HTMLModel",
            "_view_count": null,
            "_view_module": "@jupyter-widgets/controls",
            "_view_module_version": "1.5.0",
            "_view_name": "HTMLView",
            "description": "",
            "description_tooltip": null,
            "layout": "IPY_MODEL_20e0c881f68d4263838736c7511406a7",
            "placeholder": "​",
            "style": "IPY_MODEL_06991e1626c14546a708613dfe7299b7",
            "value": " 665/665 [00:00&lt;00:00, 9.08kB/s]"
          }
        },
        "bdb5e924f7e1420fbc82b28ff3bfa6c1": {
          "model_module": "@jupyter-widgets/base",
          "model_name": "LayoutModel",
          "model_module_version": "1.2.0",
          "state": {
            "_model_module": "@jupyter-widgets/base",
            "_model_module_version": "1.2.0",
            "_model_name": "LayoutModel",
            "_view_count": null,
            "_view_module": "@jupyter-widgets/base",
            "_view_module_version": "1.2.0",
            "_view_name": "LayoutView",
            "align_content": null,
            "align_items": null,
            "align_self": null,
            "border": null,
            "bottom": null,
            "display": null,
            "flex": null,
            "flex_flow": null,
            "grid_area": null,
            "grid_auto_columns": null,
            "grid_auto_flow": null,
            "grid_auto_rows": null,
            "grid_column": null,
            "grid_gap": null,
            "grid_row": null,
            "grid_template_areas": null,
            "grid_template_columns": null,
            "grid_template_rows": null,
            "height": null,
            "justify_content": null,
            "justify_items": null,
            "left": null,
            "margin": null,
            "max_height": null,
            "max_width": null,
            "min_height": null,
            "min_width": null,
            "object_fit": null,
            "object_position": null,
            "order": null,
            "overflow": null,
            "overflow_x": null,
            "overflow_y": null,
            "padding": null,
            "right": null,
            "top": null,
            "visibility": null,
            "width": null
          }
        },
        "1a456534972d48f9a2f91fc93095105f": {
          "model_module": "@jupyter-widgets/base",
          "model_name": "LayoutModel",
          "model_module_version": "1.2.0",
          "state": {
            "_model_module": "@jupyter-widgets/base",
            "_model_module_version": "1.2.0",
            "_model_name": "LayoutModel",
            "_view_count": null,
            "_view_module": "@jupyter-widgets/base",
            "_view_module_version": "1.2.0",
            "_view_name": "LayoutView",
            "align_content": null,
            "align_items": null,
            "align_self": null,
            "border": null,
            "bottom": null,
            "display": null,
            "flex": null,
            "flex_flow": null,
            "grid_area": null,
            "grid_auto_columns": null,
            "grid_auto_flow": null,
            "grid_auto_rows": null,
            "grid_column": null,
            "grid_gap": null,
            "grid_row": null,
            "grid_template_areas": null,
            "grid_template_columns": null,
            "grid_template_rows": null,
            "height": null,
            "justify_content": null,
            "justify_items": null,
            "left": null,
            "margin": null,
            "max_height": null,
            "max_width": null,
            "min_height": null,
            "min_width": null,
            "object_fit": null,
            "object_position": null,
            "order": null,
            "overflow": null,
            "overflow_x": null,
            "overflow_y": null,
            "padding": null,
            "right": null,
            "top": null,
            "visibility": null,
            "width": null
          }
        },
        "cfa5344d310b4c5aacfd639e75817b84": {
          "model_module": "@jupyter-widgets/controls",
          "model_name": "DescriptionStyleModel",
          "model_module_version": "1.5.0",
          "state": {
            "_model_module": "@jupyter-widgets/controls",
            "_model_module_version": "1.5.0",
            "_model_name": "DescriptionStyleModel",
            "_view_count": null,
            "_view_module": "@jupyter-widgets/base",
            "_view_module_version": "1.2.0",
            "_view_name": "StyleView",
            "description_width": ""
          }
        },
        "00e4fc8a4e2340dc80be9d07c353a361": {
          "model_module": "@jupyter-widgets/base",
          "model_name": "LayoutModel",
          "model_module_version": "1.2.0",
          "state": {
            "_model_module": "@jupyter-widgets/base",
            "_model_module_version": "1.2.0",
            "_model_name": "LayoutModel",
            "_view_count": null,
            "_view_module": "@jupyter-widgets/base",
            "_view_module_version": "1.2.0",
            "_view_name": "LayoutView",
            "align_content": null,
            "align_items": null,
            "align_self": null,
            "border": null,
            "bottom": null,
            "display": null,
            "flex": null,
            "flex_flow": null,
            "grid_area": null,
            "grid_auto_columns": null,
            "grid_auto_flow": null,
            "grid_auto_rows": null,
            "grid_column": null,
            "grid_gap": null,
            "grid_row": null,
            "grid_template_areas": null,
            "grid_template_columns": null,
            "grid_template_rows": null,
            "height": null,
            "justify_content": null,
            "justify_items": null,
            "left": null,
            "margin": null,
            "max_height": null,
            "max_width": null,
            "min_height": null,
            "min_width": null,
            "object_fit": null,
            "object_position": null,
            "order": null,
            "overflow": null,
            "overflow_x": null,
            "overflow_y": null,
            "padding": null,
            "right": null,
            "top": null,
            "visibility": null,
            "width": null
          }
        },
        "567cd2bf52e94f56a407c8f35d133823": {
          "model_module": "@jupyter-widgets/controls",
          "model_name": "ProgressStyleModel",
          "model_module_version": "1.5.0",
          "state": {
            "_model_module": "@jupyter-widgets/controls",
            "_model_module_version": "1.5.0",
            "_model_name": "ProgressStyleModel",
            "_view_count": null,
            "_view_module": "@jupyter-widgets/base",
            "_view_module_version": "1.2.0",
            "_view_name": "StyleView",
            "bar_color": null,
            "description_width": ""
          }
        },
        "20e0c881f68d4263838736c7511406a7": {
          "model_module": "@jupyter-widgets/base",
          "model_name": "LayoutModel",
          "model_module_version": "1.2.0",
          "state": {
            "_model_module": "@jupyter-widgets/base",
            "_model_module_version": "1.2.0",
            "_model_name": "LayoutModel",
            "_view_count": null,
            "_view_module": "@jupyter-widgets/base",
            "_view_module_version": "1.2.0",
            "_view_name": "LayoutView",
            "align_content": null,
            "align_items": null,
            "align_self": null,
            "border": null,
            "bottom": null,
            "display": null,
            "flex": null,
            "flex_flow": null,
            "grid_area": null,
            "grid_auto_columns": null,
            "grid_auto_flow": null,
            "grid_auto_rows": null,
            "grid_column": null,
            "grid_gap": null,
            "grid_row": null,
            "grid_template_areas": null,
            "grid_template_columns": null,
            "grid_template_rows": null,
            "height": null,
            "justify_content": null,
            "justify_items": null,
            "left": null,
            "margin": null,
            "max_height": null,
            "max_width": null,
            "min_height": null,
            "min_width": null,
            "object_fit": null,
            "object_position": null,
            "order": null,
            "overflow": null,
            "overflow_x": null,
            "overflow_y": null,
            "padding": null,
            "right": null,
            "top": null,
            "visibility": null,
            "width": null
          }
        },
        "06991e1626c14546a708613dfe7299b7": {
          "model_module": "@jupyter-widgets/controls",
          "model_name": "DescriptionStyleModel",
          "model_module_version": "1.5.0",
          "state": {
            "_model_module": "@jupyter-widgets/controls",
            "_model_module_version": "1.5.0",
            "_model_name": "DescriptionStyleModel",
            "_view_count": null,
            "_view_module": "@jupyter-widgets/base",
            "_view_module_version": "1.2.0",
            "_view_name": "StyleView",
            "description_width": ""
          }
        },
        "886733eba1d240c6bd5e9a63179becb7": {
          "model_module": "@jupyter-widgets/controls",
          "model_name": "HBoxModel",
          "model_module_version": "1.5.0",
          "state": {
            "_dom_classes": [],
            "_model_module": "@jupyter-widgets/controls",
            "_model_module_version": "1.5.0",
            "_model_name": "HBoxModel",
            "_view_count": null,
            "_view_module": "@jupyter-widgets/controls",
            "_view_module_version": "1.5.0",
            "_view_name": "HBoxView",
            "box_style": "",
            "children": [
              "IPY_MODEL_9ee4dceebfa44de896b61d31ea80d103",
              "IPY_MODEL_e1ccba940a21453ca183bf8d6fbbccb2",
              "IPY_MODEL_399c08f61b03428ea75748864748a1bd"
            ],
            "layout": "IPY_MODEL_9819f4b104c549308b1f04885e7348d5"
          }
        },
        "9ee4dceebfa44de896b61d31ea80d103": {
          "model_module": "@jupyter-widgets/controls",
          "model_name": "HTMLModel",
          "model_module_version": "1.5.0",
          "state": {
            "_dom_classes": [],
            "_model_module": "@jupyter-widgets/controls",
            "_model_module_version": "1.5.0",
            "_model_name": "HTMLModel",
            "_view_count": null,
            "_view_module": "@jupyter-widgets/controls",
            "_view_module_version": "1.5.0",
            "_view_name": "HTMLView",
            "description": "",
            "description_tooltip": null,
            "layout": "IPY_MODEL_87a96b39ff5c402c8b9c695b6da40b3d",
            "placeholder": "​",
            "style": "IPY_MODEL_144b99c6ba844213aa5f9694224ef86c",
            "value": "model.safetensors: 100%"
          }
        },
        "e1ccba940a21453ca183bf8d6fbbccb2": {
          "model_module": "@jupyter-widgets/controls",
          "model_name": "FloatProgressModel",
          "model_module_version": "1.5.0",
          "state": {
            "_dom_classes": [],
            "_model_module": "@jupyter-widgets/controls",
            "_model_module_version": "1.5.0",
            "_model_name": "FloatProgressModel",
            "_view_count": null,
            "_view_module": "@jupyter-widgets/controls",
            "_view_module_version": "1.5.0",
            "_view_name": "ProgressView",
            "bar_style": "success",
            "description": "",
            "description_tooltip": null,
            "layout": "IPY_MODEL_bcda50d27f664cafb1ae9361d5f05ebf",
            "max": 548105171,
            "min": 0,
            "orientation": "horizontal",
            "style": "IPY_MODEL_7a353bdb5b5841a5afa008fb3dbc3bac",
            "value": 548105171
          }
        },
        "399c08f61b03428ea75748864748a1bd": {
          "model_module": "@jupyter-widgets/controls",
          "model_name": "HTMLModel",
          "model_module_version": "1.5.0",
          "state": {
            "_dom_classes": [],
            "_model_module": "@jupyter-widgets/controls",
            "_model_module_version": "1.5.0",
            "_model_name": "HTMLModel",
            "_view_count": null,
            "_view_module": "@jupyter-widgets/controls",
            "_view_module_version": "1.5.0",
            "_view_name": "HTMLView",
            "description": "",
            "description_tooltip": null,
            "layout": "IPY_MODEL_6626b0890bbb4e179552718eb182e869",
            "placeholder": "​",
            "style": "IPY_MODEL_9b3ddb36c8c844eaa92de7fa2096b3ce",
            "value": " 548M/548M [00:04&lt;00:00, 142MB/s]"
          }
        },
        "9819f4b104c549308b1f04885e7348d5": {
          "model_module": "@jupyter-widgets/base",
          "model_name": "LayoutModel",
          "model_module_version": "1.2.0",
          "state": {
            "_model_module": "@jupyter-widgets/base",
            "_model_module_version": "1.2.0",
            "_model_name": "LayoutModel",
            "_view_count": null,
            "_view_module": "@jupyter-widgets/base",
            "_view_module_version": "1.2.0",
            "_view_name": "LayoutView",
            "align_content": null,
            "align_items": null,
            "align_self": null,
            "border": null,
            "bottom": null,
            "display": null,
            "flex": null,
            "flex_flow": null,
            "grid_area": null,
            "grid_auto_columns": null,
            "grid_auto_flow": null,
            "grid_auto_rows": null,
            "grid_column": null,
            "grid_gap": null,
            "grid_row": null,
            "grid_template_areas": null,
            "grid_template_columns": null,
            "grid_template_rows": null,
            "height": null,
            "justify_content": null,
            "justify_items": null,
            "left": null,
            "margin": null,
            "max_height": null,
            "max_width": null,
            "min_height": null,
            "min_width": null,
            "object_fit": null,
            "object_position": null,
            "order": null,
            "overflow": null,
            "overflow_x": null,
            "overflow_y": null,
            "padding": null,
            "right": null,
            "top": null,
            "visibility": null,
            "width": null
          }
        },
        "87a96b39ff5c402c8b9c695b6da40b3d": {
          "model_module": "@jupyter-widgets/base",
          "model_name": "LayoutModel",
          "model_module_version": "1.2.0",
          "state": {
            "_model_module": "@jupyter-widgets/base",
            "_model_module_version": "1.2.0",
            "_model_name": "LayoutModel",
            "_view_count": null,
            "_view_module": "@jupyter-widgets/base",
            "_view_module_version": "1.2.0",
            "_view_name": "LayoutView",
            "align_content": null,
            "align_items": null,
            "align_self": null,
            "border": null,
            "bottom": null,
            "display": null,
            "flex": null,
            "flex_flow": null,
            "grid_area": null,
            "grid_auto_columns": null,
            "grid_auto_flow": null,
            "grid_auto_rows": null,
            "grid_column": null,
            "grid_gap": null,
            "grid_row": null,
            "grid_template_areas": null,
            "grid_template_columns": null,
            "grid_template_rows": null,
            "height": null,
            "justify_content": null,
            "justify_items": null,
            "left": null,
            "margin": null,
            "max_height": null,
            "max_width": null,
            "min_height": null,
            "min_width": null,
            "object_fit": null,
            "object_position": null,
            "order": null,
            "overflow": null,
            "overflow_x": null,
            "overflow_y": null,
            "padding": null,
            "right": null,
            "top": null,
            "visibility": null,
            "width": null
          }
        },
        "144b99c6ba844213aa5f9694224ef86c": {
          "model_module": "@jupyter-widgets/controls",
          "model_name": "DescriptionStyleModel",
          "model_module_version": "1.5.0",
          "state": {
            "_model_module": "@jupyter-widgets/controls",
            "_model_module_version": "1.5.0",
            "_model_name": "DescriptionStyleModel",
            "_view_count": null,
            "_view_module": "@jupyter-widgets/base",
            "_view_module_version": "1.2.0",
            "_view_name": "StyleView",
            "description_width": ""
          }
        },
        "bcda50d27f664cafb1ae9361d5f05ebf": {
          "model_module": "@jupyter-widgets/base",
          "model_name": "LayoutModel",
          "model_module_version": "1.2.0",
          "state": {
            "_model_module": "@jupyter-widgets/base",
            "_model_module_version": "1.2.0",
            "_model_name": "LayoutModel",
            "_view_count": null,
            "_view_module": "@jupyter-widgets/base",
            "_view_module_version": "1.2.0",
            "_view_name": "LayoutView",
            "align_content": null,
            "align_items": null,
            "align_self": null,
            "border": null,
            "bottom": null,
            "display": null,
            "flex": null,
            "flex_flow": null,
            "grid_area": null,
            "grid_auto_columns": null,
            "grid_auto_flow": null,
            "grid_auto_rows": null,
            "grid_column": null,
            "grid_gap": null,
            "grid_row": null,
            "grid_template_areas": null,
            "grid_template_columns": null,
            "grid_template_rows": null,
            "height": null,
            "justify_content": null,
            "justify_items": null,
            "left": null,
            "margin": null,
            "max_height": null,
            "max_width": null,
            "min_height": null,
            "min_width": null,
            "object_fit": null,
            "object_position": null,
            "order": null,
            "overflow": null,
            "overflow_x": null,
            "overflow_y": null,
            "padding": null,
            "right": null,
            "top": null,
            "visibility": null,
            "width": null
          }
        },
        "7a353bdb5b5841a5afa008fb3dbc3bac": {
          "model_module": "@jupyter-widgets/controls",
          "model_name": "ProgressStyleModel",
          "model_module_version": "1.5.0",
          "state": {
            "_model_module": "@jupyter-widgets/controls",
            "_model_module_version": "1.5.0",
            "_model_name": "ProgressStyleModel",
            "_view_count": null,
            "_view_module": "@jupyter-widgets/base",
            "_view_module_version": "1.2.0",
            "_view_name": "StyleView",
            "bar_color": null,
            "description_width": ""
          }
        },
        "6626b0890bbb4e179552718eb182e869": {
          "model_module": "@jupyter-widgets/base",
          "model_name": "LayoutModel",
          "model_module_version": "1.2.0",
          "state": {
            "_model_module": "@jupyter-widgets/base",
            "_model_module_version": "1.2.0",
            "_model_name": "LayoutModel",
            "_view_count": null,
            "_view_module": "@jupyter-widgets/base",
            "_view_module_version": "1.2.0",
            "_view_name": "LayoutView",
            "align_content": null,
            "align_items": null,
            "align_self": null,
            "border": null,
            "bottom": null,
            "display": null,
            "flex": null,
            "flex_flow": null,
            "grid_area": null,
            "grid_auto_columns": null,
            "grid_auto_flow": null,
            "grid_auto_rows": null,
            "grid_column": null,
            "grid_gap": null,
            "grid_row": null,
            "grid_template_areas": null,
            "grid_template_columns": null,
            "grid_template_rows": null,
            "height": null,
            "justify_content": null,
            "justify_items": null,
            "left": null,
            "margin": null,
            "max_height": null,
            "max_width": null,
            "min_height": null,
            "min_width": null,
            "object_fit": null,
            "object_position": null,
            "order": null,
            "overflow": null,
            "overflow_x": null,
            "overflow_y": null,
            "padding": null,
            "right": null,
            "top": null,
            "visibility": null,
            "width": null
          }
        },
        "9b3ddb36c8c844eaa92de7fa2096b3ce": {
          "model_module": "@jupyter-widgets/controls",
          "model_name": "DescriptionStyleModel",
          "model_module_version": "1.5.0",
          "state": {
            "_model_module": "@jupyter-widgets/controls",
            "_model_module_version": "1.5.0",
            "_model_name": "DescriptionStyleModel",
            "_view_count": null,
            "_view_module": "@jupyter-widgets/base",
            "_view_module_version": "1.2.0",
            "_view_name": "StyleView",
            "description_width": ""
          }
        },
        "1d9ad084b21348f3bbd8bda978871c32": {
          "model_module": "@jupyter-widgets/controls",
          "model_name": "HBoxModel",
          "model_module_version": "1.5.0",
          "state": {
            "_dom_classes": [],
            "_model_module": "@jupyter-widgets/controls",
            "_model_module_version": "1.5.0",
            "_model_name": "HBoxModel",
            "_view_count": null,
            "_view_module": "@jupyter-widgets/controls",
            "_view_module_version": "1.5.0",
            "_view_name": "HBoxView",
            "box_style": "",
            "children": [
              "IPY_MODEL_b4eec0408dd342559927a7cb3573d64b",
              "IPY_MODEL_d5cbe5e135cc466a9853b01c03fd88b8",
              "IPY_MODEL_86875357dfac4c8bb61dc6cd9818d0a2"
            ],
            "layout": "IPY_MODEL_0fc1734895fe49d1859750694b84fe9c"
          }
        },
        "b4eec0408dd342559927a7cb3573d64b": {
          "model_module": "@jupyter-widgets/controls",
          "model_name": "HTMLModel",
          "model_module_version": "1.5.0",
          "state": {
            "_dom_classes": [],
            "_model_module": "@jupyter-widgets/controls",
            "_model_module_version": "1.5.0",
            "_model_name": "HTMLModel",
            "_view_count": null,
            "_view_module": "@jupyter-widgets/controls",
            "_view_module_version": "1.5.0",
            "_view_name": "HTMLView",
            "description": "",
            "description_tooltip": null,
            "layout": "IPY_MODEL_ed0bc72f276d421381ef1a057eb1f91f",
            "placeholder": "​",
            "style": "IPY_MODEL_8a42b114f2484c969ff3774d1d79aa4b",
            "value": "generation_config.json: 100%"
          }
        },
        "d5cbe5e135cc466a9853b01c03fd88b8": {
          "model_module": "@jupyter-widgets/controls",
          "model_name": "FloatProgressModel",
          "model_module_version": "1.5.0",
          "state": {
            "_dom_classes": [],
            "_model_module": "@jupyter-widgets/controls",
            "_model_module_version": "1.5.0",
            "_model_name": "FloatProgressModel",
            "_view_count": null,
            "_view_module": "@jupyter-widgets/controls",
            "_view_module_version": "1.5.0",
            "_view_name": "ProgressView",
            "bar_style": "success",
            "description": "",
            "description_tooltip": null,
            "layout": "IPY_MODEL_c473c62312f94d66835be7ae91e6ee3d",
            "max": 124,
            "min": 0,
            "orientation": "horizontal",
            "style": "IPY_MODEL_db65a2f05d1b4f26b6c48797dcde842d",
            "value": 124
          }
        },
        "86875357dfac4c8bb61dc6cd9818d0a2": {
          "model_module": "@jupyter-widgets/controls",
          "model_name": "HTMLModel",
          "model_module_version": "1.5.0",
          "state": {
            "_dom_classes": [],
            "_model_module": "@jupyter-widgets/controls",
            "_model_module_version": "1.5.0",
            "_model_name": "HTMLModel",
            "_view_count": null,
            "_view_module": "@jupyter-widgets/controls",
            "_view_module_version": "1.5.0",
            "_view_name": "HTMLView",
            "description": "",
            "description_tooltip": null,
            "layout": "IPY_MODEL_91ad024d662347b7841614efd89c6b0b",
            "placeholder": "​",
            "style": "IPY_MODEL_9be6b4e4b7c4405689713083ccc8fa86",
            "value": " 124/124 [00:00&lt;00:00, 2.07kB/s]"
          }
        },
        "0fc1734895fe49d1859750694b84fe9c": {
          "model_module": "@jupyter-widgets/base",
          "model_name": "LayoutModel",
          "model_module_version": "1.2.0",
          "state": {
            "_model_module": "@jupyter-widgets/base",
            "_model_module_version": "1.2.0",
            "_model_name": "LayoutModel",
            "_view_count": null,
            "_view_module": "@jupyter-widgets/base",
            "_view_module_version": "1.2.0",
            "_view_name": "LayoutView",
            "align_content": null,
            "align_items": null,
            "align_self": null,
            "border": null,
            "bottom": null,
            "display": null,
            "flex": null,
            "flex_flow": null,
            "grid_area": null,
            "grid_auto_columns": null,
            "grid_auto_flow": null,
            "grid_auto_rows": null,
            "grid_column": null,
            "grid_gap": null,
            "grid_row": null,
            "grid_template_areas": null,
            "grid_template_columns": null,
            "grid_template_rows": null,
            "height": null,
            "justify_content": null,
            "justify_items": null,
            "left": null,
            "margin": null,
            "max_height": null,
            "max_width": null,
            "min_height": null,
            "min_width": null,
            "object_fit": null,
            "object_position": null,
            "order": null,
            "overflow": null,
            "overflow_x": null,
            "overflow_y": null,
            "padding": null,
            "right": null,
            "top": null,
            "visibility": null,
            "width": null
          }
        },
        "ed0bc72f276d421381ef1a057eb1f91f": {
          "model_module": "@jupyter-widgets/base",
          "model_name": "LayoutModel",
          "model_module_version": "1.2.0",
          "state": {
            "_model_module": "@jupyter-widgets/base",
            "_model_module_version": "1.2.0",
            "_model_name": "LayoutModel",
            "_view_count": null,
            "_view_module": "@jupyter-widgets/base",
            "_view_module_version": "1.2.0",
            "_view_name": "LayoutView",
            "align_content": null,
            "align_items": null,
            "align_self": null,
            "border": null,
            "bottom": null,
            "display": null,
            "flex": null,
            "flex_flow": null,
            "grid_area": null,
            "grid_auto_columns": null,
            "grid_auto_flow": null,
            "grid_auto_rows": null,
            "grid_column": null,
            "grid_gap": null,
            "grid_row": null,
            "grid_template_areas": null,
            "grid_template_columns": null,
            "grid_template_rows": null,
            "height": null,
            "justify_content": null,
            "justify_items": null,
            "left": null,
            "margin": null,
            "max_height": null,
            "max_width": null,
            "min_height": null,
            "min_width": null,
            "object_fit": null,
            "object_position": null,
            "order": null,
            "overflow": null,
            "overflow_x": null,
            "overflow_y": null,
            "padding": null,
            "right": null,
            "top": null,
            "visibility": null,
            "width": null
          }
        },
        "8a42b114f2484c969ff3774d1d79aa4b": {
          "model_module": "@jupyter-widgets/controls",
          "model_name": "DescriptionStyleModel",
          "model_module_version": "1.5.0",
          "state": {
            "_model_module": "@jupyter-widgets/controls",
            "_model_module_version": "1.5.0",
            "_model_name": "DescriptionStyleModel",
            "_view_count": null,
            "_view_module": "@jupyter-widgets/base",
            "_view_module_version": "1.2.0",
            "_view_name": "StyleView",
            "description_width": ""
          }
        },
        "c473c62312f94d66835be7ae91e6ee3d": {
          "model_module": "@jupyter-widgets/base",
          "model_name": "LayoutModel",
          "model_module_version": "1.2.0",
          "state": {
            "_model_module": "@jupyter-widgets/base",
            "_model_module_version": "1.2.0",
            "_model_name": "LayoutModel",
            "_view_count": null,
            "_view_module": "@jupyter-widgets/base",
            "_view_module_version": "1.2.0",
            "_view_name": "LayoutView",
            "align_content": null,
            "align_items": null,
            "align_self": null,
            "border": null,
            "bottom": null,
            "display": null,
            "flex": null,
            "flex_flow": null,
            "grid_area": null,
            "grid_auto_columns": null,
            "grid_auto_flow": null,
            "grid_auto_rows": null,
            "grid_column": null,
            "grid_gap": null,
            "grid_row": null,
            "grid_template_areas": null,
            "grid_template_columns": null,
            "grid_template_rows": null,
            "height": null,
            "justify_content": null,
            "justify_items": null,
            "left": null,
            "margin": null,
            "max_height": null,
            "max_width": null,
            "min_height": null,
            "min_width": null,
            "object_fit": null,
            "object_position": null,
            "order": null,
            "overflow": null,
            "overflow_x": null,
            "overflow_y": null,
            "padding": null,
            "right": null,
            "top": null,
            "visibility": null,
            "width": null
          }
        },
        "db65a2f05d1b4f26b6c48797dcde842d": {
          "model_module": "@jupyter-widgets/controls",
          "model_name": "ProgressStyleModel",
          "model_module_version": "1.5.0",
          "state": {
            "_model_module": "@jupyter-widgets/controls",
            "_model_module_version": "1.5.0",
            "_model_name": "ProgressStyleModel",
            "_view_count": null,
            "_view_module": "@jupyter-widgets/base",
            "_view_module_version": "1.2.0",
            "_view_name": "StyleView",
            "bar_color": null,
            "description_width": ""
          }
        },
        "91ad024d662347b7841614efd89c6b0b": {
          "model_module": "@jupyter-widgets/base",
          "model_name": "LayoutModel",
          "model_module_version": "1.2.0",
          "state": {
            "_model_module": "@jupyter-widgets/base",
            "_model_module_version": "1.2.0",
            "_model_name": "LayoutModel",
            "_view_count": null,
            "_view_module": "@jupyter-widgets/base",
            "_view_module_version": "1.2.0",
            "_view_name": "LayoutView",
            "align_content": null,
            "align_items": null,
            "align_self": null,
            "border": null,
            "bottom": null,
            "display": null,
            "flex": null,
            "flex_flow": null,
            "grid_area": null,
            "grid_auto_columns": null,
            "grid_auto_flow": null,
            "grid_auto_rows": null,
            "grid_column": null,
            "grid_gap": null,
            "grid_row": null,
            "grid_template_areas": null,
            "grid_template_columns": null,
            "grid_template_rows": null,
            "height": null,
            "justify_content": null,
            "justify_items": null,
            "left": null,
            "margin": null,
            "max_height": null,
            "max_width": null,
            "min_height": null,
            "min_width": null,
            "object_fit": null,
            "object_position": null,
            "order": null,
            "overflow": null,
            "overflow_x": null,
            "overflow_y": null,
            "padding": null,
            "right": null,
            "top": null,
            "visibility": null,
            "width": null
          }
        },
        "9be6b4e4b7c4405689713083ccc8fa86": {
          "model_module": "@jupyter-widgets/controls",
          "model_name": "DescriptionStyleModel",
          "model_module_version": "1.5.0",
          "state": {
            "_model_module": "@jupyter-widgets/controls",
            "_model_module_version": "1.5.0",
            "_model_name": "DescriptionStyleModel",
            "_view_count": null,
            "_view_module": "@jupyter-widgets/base",
            "_view_module_version": "1.2.0",
            "_view_name": "StyleView",
            "description_width": ""
          }
        }
      }
    }
  },
  "cells": [
    {
      "cell_type": "code",
      "source": [
        "# to install nltk\n",
        "!pip install nltk"
      ],
      "metadata": {
        "colab": {
          "base_uri": "https://localhost:8080/"
        },
        "id": "E6dXKoqKmyFO",
        "outputId": "87a7147e-0fe6-4aef-f4bf-046e40f24924"
      },
      "execution_count": 29,
      "outputs": [
        {
          "output_type": "stream",
          "name": "stdout",
          "text": [
            "Requirement already satisfied: nltk in /usr/local/lib/python3.10/dist-packages (3.8.1)\n",
            "Requirement already satisfied: click in /usr/local/lib/python3.10/dist-packages (from nltk) (8.1.7)\n",
            "Requirement already satisfied: joblib in /usr/local/lib/python3.10/dist-packages (from nltk) (1.3.2)\n",
            "Requirement already satisfied: regex>=2021.8.3 in /usr/local/lib/python3.10/dist-packages (from nltk) (2023.6.3)\n",
            "Requirement already satisfied: tqdm in /usr/local/lib/python3.10/dist-packages (from nltk) (4.66.1)\n"
          ]
        }
      ]
    },
    {
      "cell_type": "code",
      "source": [
        "# natural language processing toolkit\n",
        "import nltk"
      ],
      "metadata": {
        "id": "DAKH6tdznGTk"
      },
      "execution_count": 30,
      "outputs": []
    },
    {
      "cell_type": "code",
      "source": [
        "# to access and use the pre-trained sentence tokenizer provided by NLTK in Python code to tokenize text into sentences.\n",
        "nltk.download('punkt')"
      ],
      "metadata": {
        "colab": {
          "base_uri": "https://localhost:8080/"
        },
        "id": "fXJ17TTsm8TY",
        "outputId": "f8c216ff-c98d-4eee-942d-e40e870cba02"
      },
      "execution_count": 31,
      "outputs": [
        {
          "output_type": "stream",
          "name": "stderr",
          "text": [
            "[nltk_data] Downloading package punkt to /root/nltk_data...\n",
            "[nltk_data]   Package punkt is already up-to-date!\n"
          ]
        },
        {
          "output_type": "execute_result",
          "data": {
            "text/plain": [
              "True"
            ]
          },
          "metadata": {},
          "execution_count": 31
        }
      ]
    },
    {
      "cell_type": "markdown",
      "source": [
        "**Tokenization**"
      ],
      "metadata": {
        "id": "v8EN0sTndT4L"
      }
    },
    {
      "cell_type": "code",
      "source": [
        "text = \"A confusion matrix is a matrix that summarizes the performance of a machine learning model on a set of test data.\\\n",
        "       It is often used to measure the performance of classification models, which aim to predict a categorical label for each input instance.\\\n",
        "       The matrix displays the number of true positives (TP),\\\n",
        "       true negatives (TN), false positives (FP), and false negatives (FN) produced by the model on the test data.\"\n",
        "\n",
        "# Word tokenization\n",
        "words = nltk.word_tokenize(text)\n",
        "print(\"Word Tokenization:\", words)\n",
        "\n",
        "# Sentence tokenization\n",
        "sentences = nltk.sent_tokenize(text)\n",
        "print(\"Sentence Tokenization:\", sentences)"
      ],
      "metadata": {
        "colab": {
          "base_uri": "https://localhost:8080/"
        },
        "id": "QWchZ8BanNui",
        "outputId": "9be03b5f-3d11-4a7e-bd4f-0f14aceb35f8"
      },
      "execution_count": 32,
      "outputs": [
        {
          "output_type": "stream",
          "name": "stdout",
          "text": [
            "Word Tokenization: ['A', 'confusion', 'matrix', 'is', 'a', 'matrix', 'that', 'summarizes', 'the', 'performance', 'of', 'a', 'machine', 'learning', 'model', 'on', 'a', 'set', 'of', 'test', 'data', '.', 'It', 'is', 'often', 'used', 'to', 'measure', 'the', 'performance', 'of', 'classification', 'models', ',', 'which', 'aim', 'to', 'predict', 'a', 'categorical', 'label', 'for', 'each', 'input', 'instance', '.', 'The', 'matrix', 'displays', 'the', 'number', 'of', 'true', 'positives', '(', 'TP', ')', ',', 'true', 'negatives', '(', 'TN', ')', ',', 'false', 'positives', '(', 'FP', ')', ',', 'and', 'false', 'negatives', '(', 'FN', ')', 'produced', 'by', 'the', 'model', 'on', 'the', 'test', 'data', '.']\n",
            "Sentence Tokenization: ['A confusion matrix is a matrix that summarizes the performance of a machine learning model on a set of test data.', 'It is often used to measure the performance of classification models, which aim to predict a categorical label for each input instance.', 'The matrix displays the number of true positives (TP),       true negatives (TN), false positives (FP), and false negatives (FN) produced by the model on the test data.']\n"
          ]
        }
      ]
    },
    {
      "cell_type": "code",
      "source": [
        "another_text = \"Confusion matrix is a very popular measure used while solving classification problems.\\\n",
        "               It can be applied to binary classification as well as for multiclass classification problems.\"\n",
        "\n",
        "# Word tokenization\n",
        "other_words = nltk.word_tokenize(another_text)\n",
        "print(\"Word Tokenization:\", other_words)"
      ],
      "metadata": {
        "colab": {
          "base_uri": "https://localhost:8080/"
        },
        "id": "l2esTN0j2VoK",
        "outputId": "717c9af1-51e2-42ec-b541-fb41e7546aed"
      },
      "execution_count": 33,
      "outputs": [
        {
          "output_type": "stream",
          "name": "stdout",
          "text": [
            "Word Tokenization: ['Confusion', 'matrix', 'is', 'a', 'very', 'popular', 'measure', 'used', 'while', 'solving', 'classification', 'problems', '.', 'It', 'can', 'be', 'applied', 'to', 'binary', 'classification', 'as', 'well', 'as', 'for', 'multiclass', 'classification', 'problems', '.']\n"
          ]
        }
      ]
    },
    {
      "cell_type": "markdown",
      "source": [
        "**Segmentation**"
      ],
      "metadata": {
        "id": "gRDf1HYTo1uA"
      }
    },
    {
      "cell_type": "code",
      "source": [
        "# to determine a suitable segment length by considering the average length of words in the text\n",
        "words = text.split()\n",
        "total_word_length = sum(len(word) for word in words)\n",
        "average_word_length = total_word_length / len(words)\n",
        "print(\"Average Word Length:\", average_word_length)"
      ],
      "metadata": {
        "colab": {
          "base_uri": "https://localhost:8080/"
        },
        "id": "I3QVnxEnp72x",
        "outputId": "f7f838ee-21df-4da5-df99-f5efcc6cb46e"
      },
      "execution_count": 34,
      "outputs": [
        {
          "output_type": "stream",
          "name": "stdout",
          "text": [
            "Average Word Length: 4.9\n"
          ]
        }
      ]
    },
    {
      "cell_type": "code",
      "source": [
        "# Simple segmentation of a text into segments of fixed length\n",
        "def segment_text(text, segment_length):\n",
        "    segments = [text[i:i + segment_length] for i in range(0, len(text), segment_length)]\n",
        "    return segments\n",
        "\n",
        "segment_length = 24\n",
        "\n",
        "segments = segment_text(text, segment_length)\n",
        "print(\"Text Segmentation:\", segments)\n"
      ],
      "metadata": {
        "colab": {
          "base_uri": "https://localhost:8080/"
        },
        "id": "NzkV8Mb-ozvg",
        "outputId": "eaa3f479-2a72-485b-92fd-8d11fc74171e"
      },
      "execution_count": 35,
      "outputs": [
        {
          "output_type": "stream",
          "name": "stdout",
          "text": [
            "Text Segmentation: ['A confusion matrix is a ', 'matrix that summarizes t', 'he performance of a mach', 'ine learning model on a ', 'set of test data.       ', 'It is often used to meas', 'ure the performance of c', 'lassification models, wh', 'ich aim to predict a cat', 'egorical label for each ', 'input instance.       Th', 'e matrix displays the nu', 'mber of true positives (', 'TP),       true negative', 's (TN), false positives ', '(FP), and false negative', 's (FN) produced by the m', 'odel on the test data.']\n"
          ]
        }
      ]
    },
    {
      "cell_type": "code",
      "source": [
        "# Other way\n",
        "import re\n",
        "def sentence_segmentation(text):\n",
        "    sentences = re.split(r'(?<!\\w\\.\\w.)(?<![A-Z][a-z]\\.)(?<=\\.|\\?)\\s', text)\n",
        "    return sentences\n",
        "\n",
        "# Sample corpus\n",
        "my_text = \"Confusion matrix is a very popular measure used while solving classification problems. It can be applied to binary classification as well as for multiclass classification problems.\"\n",
        "\n",
        "\n",
        "# Perform sentence segmentation\n",
        "segmented_sentences = sentence_segmentation(my_text)\n",
        "\n",
        "# Print segmented sentences\n",
        "for index, sentence in enumerate(segmented_sentences, 1):\n",
        "    print(f\"Sentence {index}: {sentence}\")\n"
      ],
      "metadata": {
        "colab": {
          "base_uri": "https://localhost:8080/"
        },
        "id": "Vim0DWiLtX4r",
        "outputId": "6ec3a012-4fd7-4692-a20a-f4b3a503a1d1"
      },
      "execution_count": 36,
      "outputs": [
        {
          "output_type": "stream",
          "name": "stdout",
          "text": [
            "Sentence 1: Confusion matrix is a very popular measure used while solving classification problems.\n",
            "Sentence 2: It can be applied to binary classification as well as for multiclass classification problems.\n"
          ]
        }
      ]
    },
    {
      "cell_type": "markdown",
      "source": [
        "**POS-Tagging**"
      ],
      "metadata": {
        "id": "K5KghWsNvtA7"
      }
    },
    {
      "cell_type": "code",
      "source": [
        "# Required for parts of speech tagging\n",
        "nltk.download('averaged_perceptron_tagger')"
      ],
      "metadata": {
        "colab": {
          "base_uri": "https://localhost:8080/"
        },
        "id": "fqfidesAvvnr",
        "outputId": "05602f25-af7d-4777-9d0a-1c4efc9da40f"
      },
      "execution_count": 37,
      "outputs": [
        {
          "output_type": "stream",
          "name": "stderr",
          "text": [
            "[nltk_data] Downloading package averaged_perceptron_tagger to\n",
            "[nltk_data]     /root/nltk_data...\n",
            "[nltk_data]   Package averaged_perceptron_tagger is already up-to-\n",
            "[nltk_data]       date!\n"
          ]
        },
        {
          "output_type": "execute_result",
          "data": {
            "text/plain": [
              "True"
            ]
          },
          "metadata": {},
          "execution_count": 37
        }
      ]
    },
    {
      "cell_type": "code",
      "source": [
        "# Tokens\n",
        "tokens =  ['A', 'confusion', 'matrix', 'is', 'a', 'matrix', 'that', 'summarizes',\n",
        "          'the', 'performance', 'of', 'a', 'machine', 'learning', 'model', 'on', 'a', 'set', 'of', 'test',\n",
        "          'data', '.', 'It', 'is', 'often', 'used', 'to', 'measure', 'the', 'performance', 'of', 'classification',\n",
        "          'models', ',', 'which', 'aim', 'to', 'predict', 'a', 'categorical', 'label', 'for', 'each', 'input', 'instance', '.',\n",
        "          'The', 'matrix', 'displays', 'the', 'number', 'of', 'true', 'positives', '(', 'TP', ')', ',', 'true', 'negatives', '(', 'TN', ')',\n",
        "          ',', 'false', 'positives', '(', 'FP', ')', ',', 'and', 'false', 'negatives', '(', 'FN', ')', 'produced', 'by', 'the', 'model', 'on',\n",
        "          'the', 'test', 'data', '.']\n",
        "\n",
        "# Parts of speech tagging\n",
        "tagged = nltk.pos_tag(tokens)\n",
        "\n",
        "# Print tagged tokens/words\n",
        "print(\"POS-Tagging : \" , tagged)"
      ],
      "metadata": {
        "colab": {
          "base_uri": "https://localhost:8080/"
        },
        "id": "1YS3Mq8Jv5X_",
        "outputId": "05973094-c662-4b54-c4fb-71d8d3c3185f"
      },
      "execution_count": 38,
      "outputs": [
        {
          "output_type": "stream",
          "name": "stdout",
          "text": [
            "POS-Tagging :  [('A', 'DT'), ('confusion', 'NN'), ('matrix', 'NN'), ('is', 'VBZ'), ('a', 'DT'), ('matrix', 'NN'), ('that', 'WDT'), ('summarizes', 'VBZ'), ('the', 'DT'), ('performance', 'NN'), ('of', 'IN'), ('a', 'DT'), ('machine', 'NN'), ('learning', 'VBG'), ('model', 'NN'), ('on', 'IN'), ('a', 'DT'), ('set', 'NN'), ('of', 'IN'), ('test', 'NN'), ('data', 'NNS'), ('.', '.'), ('It', 'PRP'), ('is', 'VBZ'), ('often', 'RB'), ('used', 'VBN'), ('to', 'TO'), ('measure', 'VB'), ('the', 'DT'), ('performance', 'NN'), ('of', 'IN'), ('classification', 'NN'), ('models', 'NNS'), (',', ','), ('which', 'WDT'), ('aim', 'VBP'), ('to', 'TO'), ('predict', 'VB'), ('a', 'DT'), ('categorical', 'JJ'), ('label', 'NN'), ('for', 'IN'), ('each', 'DT'), ('input', 'NN'), ('instance', 'NN'), ('.', '.'), ('The', 'DT'), ('matrix', 'NN'), ('displays', 'VBZ'), ('the', 'DT'), ('number', 'NN'), ('of', 'IN'), ('true', 'JJ'), ('positives', 'NNS'), ('(', '('), ('TP', 'NNP'), (')', ')'), (',', ','), ('true', 'JJ'), ('negatives', 'NNS'), ('(', '('), ('TN', 'NNP'), (')', ')'), (',', ','), ('false', 'JJ'), ('positives', 'NNS'), ('(', '('), ('FP', 'NNP'), (')', ')'), (',', ','), ('and', 'CC'), ('false', 'JJ'), ('negatives', 'NNS'), ('(', '('), ('FN', 'NNP'), (')', ')'), ('produced', 'VBN'), ('by', 'IN'), ('the', 'DT'), ('model', 'NN'), ('on', 'IN'), ('the', 'DT'), ('test', 'NN'), ('data', 'NNS'), ('.', '.')]\n"
          ]
        }
      ]
    },
    {
      "cell_type": "markdown",
      "source": [
        "**Lemmatization**"
      ],
      "metadata": {
        "id": "1rdgS2Sxr5vr"
      }
    },
    {
      "cell_type": "code",
      "source": [
        "nltk.download('wordnet')"
      ],
      "metadata": {
        "colab": {
          "base_uri": "https://localhost:8080/"
        },
        "id": "JvgHzaT7sWFq",
        "outputId": "a573f661-a5d7-41d3-dc8d-fcda45cfc454"
      },
      "execution_count": 39,
      "outputs": [
        {
          "output_type": "stream",
          "name": "stderr",
          "text": [
            "[nltk_data] Downloading package wordnet to /root/nltk_data...\n",
            "[nltk_data]   Package wordnet is already up-to-date!\n"
          ]
        },
        {
          "output_type": "execute_result",
          "data": {
            "text/plain": [
              "True"
            ]
          },
          "metadata": {},
          "execution_count": 39
        }
      ]
    },
    {
      "cell_type": "code",
      "source": [
        "from nltk.stem import WordNetLemmatizer\n",
        "\n",
        "wordnet_lemmatizer = WordNetLemmatizer()\n",
        "text = \"My name is Evelyn. I am studying in pucit. I like to do programming. I have participated in many competitions.\"\n",
        "\n",
        "tokens = nltk.word_tokenize(text)\n",
        "# Print Lemmatized words/tokens\n",
        "for token in tokens:\n",
        "  print(\"Lemmatized_words : \", wordnet_lemmatizer.lemmatize(token , pos = \"v\"))"
      ],
      "metadata": {
        "colab": {
          "base_uri": "https://localhost:8080/"
        },
        "id": "MIaEXpsOq2E0",
        "outputId": "ec39e51a-9e4f-4cd8-a6ae-aba465ca177b"
      },
      "execution_count": 40,
      "outputs": [
        {
          "output_type": "stream",
          "name": "stdout",
          "text": [
            "Lemmatized_words :  My\n",
            "Lemmatized_words :  name\n",
            "Lemmatized_words :  be\n",
            "Lemmatized_words :  Evelyn\n",
            "Lemmatized_words :  .\n",
            "Lemmatized_words :  I\n",
            "Lemmatized_words :  be\n",
            "Lemmatized_words :  study\n",
            "Lemmatized_words :  in\n",
            "Lemmatized_words :  pucit\n",
            "Lemmatized_words :  .\n",
            "Lemmatized_words :  I\n",
            "Lemmatized_words :  like\n",
            "Lemmatized_words :  to\n",
            "Lemmatized_words :  do\n",
            "Lemmatized_words :  program\n",
            "Lemmatized_words :  .\n",
            "Lemmatized_words :  I\n",
            "Lemmatized_words :  have\n",
            "Lemmatized_words :  participate\n",
            "Lemmatized_words :  in\n",
            "Lemmatized_words :  many\n",
            "Lemmatized_words :  competitions\n",
            "Lemmatized_words :  .\n"
          ]
        }
      ]
    },
    {
      "cell_type": "code",
      "source": [
        "wordnet_lemmatizer = WordNetLemmatizer()\n",
        "tokens = [\"playing\", \"programming\", \"jumped\", \"ate\"]\n",
        "# Print Lemmatized words/tokens\n",
        "for token in tokens:\n",
        "  print(\"Lemmatized_words : \", wordnet_lemmatizer.lemmatize(token , pos = \"v\"))"
      ],
      "metadata": {
        "colab": {
          "base_uri": "https://localhost:8080/"
        },
        "id": "wMnEsAy5dtMX",
        "outputId": "136195c5-13a8-4eb9-f268-fdfd2d711851"
      },
      "execution_count": 41,
      "outputs": [
        {
          "output_type": "stream",
          "name": "stdout",
          "text": [
            "Lemmatized_words :  play\n",
            "Lemmatized_words :  program\n",
            "Lemmatized_words :  jump\n",
            "Lemmatized_words :  eat\n"
          ]
        }
      ]
    },
    {
      "cell_type": "markdown",
      "source": [
        "**Stemming**"
      ],
      "metadata": {
        "id": "FD26eOYFnsa5"
      }
    },
    {
      "cell_type": "code",
      "source": [
        "from nltk.stem import PorterStemmer\n",
        "stemmer = PorterStemmer()\n",
        "\n",
        "# Sample text\n",
        "text = \"My name is Evelyn. I am studying in pucit. I like to do programming. I have participated in many competitions.\"\n",
        "\n",
        "# Tokenize the text into words\n",
        "tokens = nltk.word_tokenize(text)\n",
        "\n",
        "for token in tokens:\n",
        "  print(\"Stemmed_words : \", stemmer.stem(token))\n"
      ],
      "metadata": {
        "colab": {
          "base_uri": "https://localhost:8080/"
        },
        "id": "YfvBR4ernvah",
        "outputId": "b3e45a9e-f80d-4c6a-9c4f-810db5fece5b"
      },
      "execution_count": 42,
      "outputs": [
        {
          "output_type": "stream",
          "name": "stdout",
          "text": [
            "Stemmed_words :  my\n",
            "Stemmed_words :  name\n",
            "Stemmed_words :  is\n",
            "Stemmed_words :  evelyn\n",
            "Stemmed_words :  .\n",
            "Stemmed_words :  i\n",
            "Stemmed_words :  am\n",
            "Stemmed_words :  studi\n",
            "Stemmed_words :  in\n",
            "Stemmed_words :  pucit\n",
            "Stemmed_words :  .\n",
            "Stemmed_words :  i\n",
            "Stemmed_words :  like\n",
            "Stemmed_words :  to\n",
            "Stemmed_words :  do\n",
            "Stemmed_words :  program\n",
            "Stemmed_words :  .\n",
            "Stemmed_words :  i\n",
            "Stemmed_words :  have\n",
            "Stemmed_words :  particip\n",
            "Stemmed_words :  in\n",
            "Stemmed_words :  mani\n",
            "Stemmed_words :  competit\n",
            "Stemmed_words :  .\n"
          ]
        }
      ]
    },
    {
      "cell_type": "code",
      "source": [
        "stemmer = PorterStemmer()\n",
        "tokens = [\"playing\", \"programming\", \"jumped\", \"ate\"]\n",
        "for token in tokens:\n",
        "  print(\"Stemmed_words : \", stemmer.stem(token))\n"
      ],
      "metadata": {
        "colab": {
          "base_uri": "https://localhost:8080/"
        },
        "id": "_C4VI2PDoxoi",
        "outputId": "f7cb1513-45c8-4559-ddf3-c4663b2eb54d"
      },
      "execution_count": 43,
      "outputs": [
        {
          "output_type": "stream",
          "name": "stdout",
          "text": [
            "Stemmed_words :  play\n",
            "Stemmed_words :  program\n",
            "Stemmed_words :  jump\n",
            "Stemmed_words :  ate\n"
          ]
        }
      ]
    },
    {
      "cell_type": "markdown",
      "source": [
        "**Levenshtein distance**"
      ],
      "metadata": {
        "id": "7No572ZQ04rE"
      }
    },
    {
      "cell_type": "code",
      "source": [
        "!pip install Levenshtein"
      ],
      "metadata": {
        "colab": {
          "base_uri": "https://localhost:8080/"
        },
        "id": "sT98XbyY1WJN",
        "outputId": "f36ba1c2-f9c7-45a0-aa1a-895db5a6f3eb"
      },
      "execution_count": 44,
      "outputs": [
        {
          "output_type": "stream",
          "name": "stdout",
          "text": [
            "Requirement already satisfied: Levenshtein in /usr/local/lib/python3.10/dist-packages (0.23.0)\n",
            "Requirement already satisfied: rapidfuzz<4.0.0,>=3.1.0 in /usr/local/lib/python3.10/dist-packages (from Levenshtein) (3.5.2)\n"
          ]
        }
      ]
    },
    {
      "cell_type": "code",
      "source": [
        "from Levenshtein import distance\n",
        "\n",
        "# calculating Levenshtein distance for converting one list to another list\n",
        "list1 = ['A', 'confusion', 'matrix', 'is', 'a', 'matrix', 'that', 'summarizes',\n",
        "          'the', 'performance', 'of', 'a', 'machine', 'learning', 'model', 'on', 'a', 'set', 'of', 'test',\n",
        "          'data', '.', 'It', 'is', 'often', 'used', 'to', 'measure', 'the', 'performance', 'of', 'classification',\n",
        "          'models', ',', 'which', 'aim', 'to', 'predict', 'a', 'categorical', 'label', 'for', 'each', 'input', 'instance', '.',\n",
        "          'The', 'matrix', 'displays', 'the', 'number', 'of', 'true', 'positives', '(', 'TP', ')', ',', 'true', 'negatives', '(', 'TN', ')',\n",
        "          ',', 'false', 'positives', '(', 'FP', ')', ',', 'and', 'false', 'negatives', '(', 'FN', ')', 'produced', 'by', 'the', 'model', 'on',\n",
        "          'the', 'test', 'data', '.']\n",
        "list2 = ['Confusion', 'matrix', 'is', 'a', 'very', 'popular', 'measure', 'used', 'while', 'solving',\n",
        "         'classification', 'problems', '.', 'It', 'can', 'be', 'applied', 'to', 'binary', 'classification',\n",
        "         'as', 'well', 'as', 'for', 'multiclass', 'classification', 'problems', '.']\n",
        "\n",
        "distance_between_lists = distance(list1, list2)\n",
        "print(\"Levenshtein Distance:\", distance_between_lists)"
      ],
      "metadata": {
        "colab": {
          "base_uri": "https://localhost:8080/"
        },
        "id": "FjB72BsS1mjK",
        "outputId": "18ea27bb-52b7-42e3-c7c0-0d34e6c1f04d"
      },
      "execution_count": 45,
      "outputs": [
        {
          "output_type": "stream",
          "name": "stdout",
          "text": [
            "Levenshtein Distance: 76\n"
          ]
        }
      ]
    },
    {
      "cell_type": "code",
      "source": [
        "# calculating Levenshtein distance for converting one word to another word\n",
        "word1 = \"make\"\n",
        "word2 = \"made\"\n",
        "\n",
        "distance_between_words = distance(word1, word2)\n",
        "print(\"Levenshtein Distance:\", distance_between_words)"
      ],
      "metadata": {
        "colab": {
          "base_uri": "https://localhost:8080/"
        },
        "id": "MMPwWP8v1pIT",
        "outputId": "b9c96050-c061-4ebf-8dcf-1617099faa08"
      },
      "execution_count": 46,
      "outputs": [
        {
          "output_type": "stream",
          "name": "stdout",
          "text": [
            "Levenshtein Distance: 1\n"
          ]
        }
      ]
    },
    {
      "cell_type": "markdown",
      "source": [
        "**Edit Distance**"
      ],
      "metadata": {
        "id": "xg_FMAtFnkbE"
      }
    },
    {
      "cell_type": "code",
      "source": [
        "# calculating Edit distance for converting one word to another word\n",
        "word1 = \"make\"\n",
        "word2 = \"made\"\n",
        "distance_between_words = nltk.edit_distance(word1, word2)\n",
        "print(\"Edit Distance:\", distance_between_words)"
      ],
      "metadata": {
        "colab": {
          "base_uri": "https://localhost:8080/"
        },
        "id": "uWSVxhyXlCFh",
        "outputId": "de6d35ee-8202-4139-99e7-1d3a51fbf2ad"
      },
      "execution_count": 47,
      "outputs": [
        {
          "output_type": "stream",
          "name": "stdout",
          "text": [
            "Edit Distance: 1\n"
          ]
        }
      ]
    },
    {
      "cell_type": "markdown",
      "source": [
        "**Byte pair encoding**"
      ],
      "metadata": {
        "id": "5xKm6IQt3tSE"
      }
    },
    {
      "cell_type": "code",
      "source": [
        "!pip install bpemb"
      ],
      "metadata": {
        "colab": {
          "base_uri": "https://localhost:8080/"
        },
        "id": "YznCJdYp8RjE",
        "outputId": "9f6ef9c8-3f5c-49a1-a581-413423c9eeb5"
      },
      "execution_count": 48,
      "outputs": [
        {
          "output_type": "stream",
          "name": "stdout",
          "text": [
            "Requirement already satisfied: bpemb in /usr/local/lib/python3.10/dist-packages (0.3.4)\n",
            "Requirement already satisfied: gensim in /usr/local/lib/python3.10/dist-packages (from bpemb) (4.3.2)\n",
            "Requirement already satisfied: numpy in /usr/local/lib/python3.10/dist-packages (from bpemb) (1.23.5)\n",
            "Requirement already satisfied: requests in /usr/local/lib/python3.10/dist-packages (from bpemb) (2.31.0)\n",
            "Requirement already satisfied: sentencepiece in /usr/local/lib/python3.10/dist-packages (from bpemb) (0.1.99)\n",
            "Requirement already satisfied: tqdm in /usr/local/lib/python3.10/dist-packages (from bpemb) (4.66.1)\n",
            "Requirement already satisfied: scipy>=1.7.0 in /usr/local/lib/python3.10/dist-packages (from gensim->bpemb) (1.11.4)\n",
            "Requirement already satisfied: smart-open>=1.8.1 in /usr/local/lib/python3.10/dist-packages (from gensim->bpemb) (6.4.0)\n",
            "Requirement already satisfied: charset-normalizer<4,>=2 in /usr/local/lib/python3.10/dist-packages (from requests->bpemb) (3.3.2)\n",
            "Requirement already satisfied: idna<4,>=2.5 in /usr/local/lib/python3.10/dist-packages (from requests->bpemb) (3.6)\n",
            "Requirement already satisfied: urllib3<3,>=1.21.1 in /usr/local/lib/python3.10/dist-packages (from requests->bpemb) (2.0.7)\n",
            "Requirement already satisfied: certifi>=2017.4.17 in /usr/local/lib/python3.10/dist-packages (from requests->bpemb) (2023.11.17)\n"
          ]
        }
      ]
    },
    {
      "cell_type": "code",
      "source": [
        "from bpemb import BPEmb\n",
        "# Load pre-trained BPEmb model\n",
        "bpemb_en = BPEmb(lang=\"en\", vs=10000)\n",
        "\n",
        "text = \"A confusion matrix is a matrix that summarizes the performance of a machine learning model on a set of test data.\\\n",
        "       It is often used to measure the performance of classification models, which aim to predict a categorical label for each input instance.\\\n",
        "       The matrix displays the number of true positives (TP),\\\n",
        "       true negatives (TN), false positives (FP), and false negatives (FN) produced by the model on the test data.\"\n",
        "# Apply byte pair encoding to text\n",
        "encoded_text = bpemb_en.encode(text)\n",
        "print(\"Byte Pair Encoded Text:\", encoded_text)"
      ],
      "metadata": {
        "colab": {
          "base_uri": "https://localhost:8080/"
        },
        "id": "gKs90d7u3eED",
        "outputId": "1a5b9107-d958-428e-f5cf-5c37d3861df5"
      },
      "execution_count": 49,
      "outputs": [
        {
          "output_type": "stream",
          "name": "stdout",
          "text": [
            "Byte Pair Encoded Text: ['▁a', '▁conf', 'usion', '▁matrix', '▁is', '▁a', '▁matrix', '▁that', '▁sum', 'mar', 'izes', '▁the', '▁performance', '▁of', '▁a', '▁machine', '▁learning', '▁model', '▁on', '▁a', '▁set', '▁of', '▁test', '▁data', '.', '▁it', '▁is', '▁often', '▁used', '▁to', '▁measure', '▁the', '▁performance', '▁of', '▁classification', '▁models', ',', '▁which', '▁aim', '▁to', '▁pred', 'ict', '▁a', '▁categ', 'or', 'ical', '▁label', '▁for', '▁each', '▁input', '▁instance', '.', '▁the', '▁matrix', '▁displays', '▁the', '▁number', '▁of', '▁true', '▁pos', 'it', 'ives', '▁(', 't', 'p', '),', '▁true', '▁neg', 'atives', '▁(', 't', 'n', '),', '▁false', '▁pos', 'it', 'ives', '▁(', 'f', 'p', '),', '▁and', '▁false', '▁neg', 'atives', '▁(', 'f', 'n', ')', '▁produced', '▁by', '▁the', '▁model', '▁on', '▁the', '▁test', '▁data', '.']\n"
          ]
        }
      ]
    },
    {
      "cell_type": "code",
      "source": [
        "# Another way\n",
        "import re\n",
        "from collections import defaultdict\n",
        "\n",
        "def get_stats(vocab):\n",
        "\t\"\"\"\n",
        "\tGiven a vocabulary (dictionary mapping words to frequency counts), returns a\n",
        "\tdictionary of tuples representing the frequency count of pairs of characters\n",
        "\tin the vocabulary.\n",
        "\t\"\"\"\n",
        "\tpairs = defaultdict(int)\n",
        "\tfor word, freq in vocab.items():\n",
        "\t\tsymbols = word.split()\n",
        "\t\tfor i in range(len(symbols)-1):\n",
        "\t\t\tpairs[symbols[i],symbols[i+1]] += freq\n",
        "\treturn pairs\n",
        "\n",
        "def merge_vocab(pair, v_in):\n",
        "\t\"\"\"\n",
        "\tGiven a pair of characters and a vocabulary, returns a new vocabulary with the\n",
        "\tpair of characters merged together wherever they appear.\n",
        "\t\"\"\"\n",
        "\tv_out = {}\n",
        "\tbigram = re.escape(' '.join(pair))\n",
        "\tp = re.compile(r'(?<!\\S)' + bigram + r'(?!\\S)')\n",
        "\tfor word in v_in:\n",
        "\t\tw_out = p.sub(''.join(pair), word)\n",
        "\t\tv_out[w_out] = v_in[word]\n",
        "\treturn v_out\n",
        "\n",
        "def get_vocab(data):\n",
        "\t\"\"\"\n",
        "\tGiven a list of strings, returns a dictionary of words mapping to their frequency\n",
        "\tcount in the data.\n",
        "\t\"\"\"\n",
        "\tvocab = defaultdict(int)\n",
        "\tfor line in data:\n",
        "\t\tfor word in line.split():\n",
        "\t\t\tvocab[' '.join(list(word)) + ' </w>'] += 1\n",
        "\treturn vocab\n",
        "\n",
        "def byte_pair_encoding(data, n):\n",
        "\t\"\"\"\n",
        "\tGiven a list of strings and an integer n, returns a list of n merged pairs\n",
        "\tof characters found in the vocabulary of the input data.\n",
        "\t\"\"\"\n",
        "\tvocab = get_vocab(data)\n",
        "\tfor i in range(n):\n",
        "\t\tpairs = get_stats(vocab)\n",
        "\t\tbest = max(pairs, key=pairs.get)\n",
        "\t\tvocab = merge_vocab(best, vocab)\n",
        "\treturn vocab\n",
        "\n",
        "# Example usage:\n",
        "corpus = \"A confusion matrix is a matrix that summarizes the performance of a machine learning model on a set of test data.\\\n",
        "       #It is often used to measure the performance of classification models, which aim to predict a categorical label for each input instance.\\\n",
        "       #The matrix displays the number of true positives (TP),\\\n",
        "       #true negatives (TN), false positives (FP), and false negatives (FN) produced by the model on the test data.\"\n",
        "data = corpus.split('.')\n",
        "\n",
        "n = 150\n",
        "bpe_pairs = byte_pair_encoding(data, n)\n",
        "bpe_pairs"
      ],
      "metadata": {
        "colab": {
          "base_uri": "https://localhost:8080/"
        },
        "id": "QYtPBewOxNz6",
        "outputId": "69184b38-147a-4596-f076-a8d41b4023a9"
      },
      "execution_count": 50,
      "outputs": [
        {
          "output_type": "execute_result",
          "data": {
            "text/plain": [
              "{'A</w>': 1,\n",
              " 'confusion</w>': 1,\n",
              " 'matrix</w>': 3,\n",
              " 'is</w>': 2,\n",
              " 'a</w>': 4,\n",
              " 'that</w>': 1,\n",
              " 'summarizes</w>': 1,\n",
              " 'the</w>': 5,\n",
              " 'performance</w>': 2,\n",
              " 'of</w>': 4,\n",
              " 'machine</w>': 1,\n",
              " 'learning</w>': 1,\n",
              " 'model</w>': 2,\n",
              " 'on</w>': 2,\n",
              " 'set</w>': 1,\n",
              " 'test</w>': 2,\n",
              " 'data</w>': 2,\n",
              " '#It</w>': 1,\n",
              " 'often</w>': 1,\n",
              " 'used</w>': 1,\n",
              " 'to</w>': 2,\n",
              " 'measure</w>': 1,\n",
              " 'classification</w>': 1,\n",
              " 'models,</w>': 1,\n",
              " 'which</w>': 1,\n",
              " 'aim</w>': 1,\n",
              " 'predict</w>': 1,\n",
              " 'categorical</w>': 1,\n",
              " 'label</w>': 1,\n",
              " 'for</w>': 1,\n",
              " 'each</w>': 1,\n",
              " 'input</w>': 1,\n",
              " 'instance</w>': 1,\n",
              " '#The</w>': 1,\n",
              " 'di s p la y s</w>': 1,\n",
              " 'n u m b er </w>': 1,\n",
              " 'true</w>': 1,\n",
              " 'positives</w>': 2,\n",
              " '(T P),</w>': 1,\n",
              " '# true</w>': 1,\n",
              " 'negatives</w>': 2,\n",
              " '(T N ),</w>': 1,\n",
              " 'false</w>': 2,\n",
              " '(F P),</w>': 1,\n",
              " 'a n d </w>': 1,\n",
              " '(F N ) </w>': 1,\n",
              " 'pr od u c ed</w>': 1,\n",
              " 'b y </w>': 1}"
            ]
          },
          "metadata": {},
          "execution_count": 50
        }
      ]
    },
    {
      "cell_type": "markdown",
      "source": [
        "**Language Models & Perplexity**"
      ],
      "metadata": {
        "id": "KbjtqJngD2ya"
      }
    },
    {
      "cell_type": "code",
      "source": [
        "\n",
        "from nltk import trigrams\n",
        "from nltk.tokenize import word_tokenize\n",
        "from collections import defaultdict\n",
        "\n",
        "# Sample text for training and testing\n",
        "train_text = \"My name is Ansha.\"\n",
        "test_text = \"My name is Ansha Sarwar.\"\n",
        "\n",
        "# Tokenize text into words\n",
        "train_tokens = word_tokenize(train_text.lower())\n",
        "test_tokens = word_tokenize(test_text.lower())\n",
        "\n",
        "# Create trigrams from the training data\n",
        "trigram_model = defaultdict(lambda: defaultdict(lambda: 0))\n",
        "for word1, word2, word3 in trigrams(train_tokens, pad_right=True, pad_left=True):\n",
        "    trigram_model[(word1, word2)][word3] += 1\n",
        "\n",
        "# Convert trigram counts to probabilities\n",
        "for word1_word2 in trigram_model:\n",
        "    total_count = float(sum(trigram_model[word1_word2].values()))\n",
        "    for word3 in trigram_model[word1_word2]:\n",
        "        trigram_model[word1_word2][word3] /= total_count\n",
        "\n",
        "# Calculate perplexity for the test data\n",
        "log_prob = 0.0\n",
        "word_count = 0\n",
        "for i in range(len(test_tokens) - 2):\n",
        "    word1 = test_tokens[i]\n",
        "    word2 = test_tokens[i + 1]\n",
        "    word3 = test_tokens[i + 2]\n",
        "    if (word1, word2) in trigram_model:\n",
        "        if word3 in trigram_model[(word1, word2)]:\n",
        "            log_prob += -1 * (trigram_model[(word1, word2)][word3])\n",
        "            word_count += 1\n",
        "\n",
        "perplexity = 2 ** (log_prob / word_count)\n",
        "print(f\"Perplexity: {perplexity}\")\n"
      ],
      "metadata": {
        "colab": {
          "base_uri": "https://localhost:8080/"
        },
        "id": "xsBdpXVBqcJz",
        "outputId": "e01bfb31-42b4-4f49-f2f4-74e44c236076"
      },
      "execution_count": 51,
      "outputs": [
        {
          "output_type": "stream",
          "name": "stdout",
          "text": [
            "Perplexity: 0.5\n"
          ]
        }
      ]
    },
    {
      "cell_type": "code",
      "source": [
        "# Other way\n",
        "import nltk\n",
        "from nltk.lm.preprocessing import padded_everygram_pipeline\n",
        "from nltk.lm import Laplace\n",
        "\n",
        "# Sample text\n",
        "text = \"My name is Ansha.\"\n",
        "sentences = nltk.sent_tokenize(text)\n",
        "\n",
        "# Tokenize the sentences into words\n",
        "tokenized_text = [nltk.word_tokenize(sentence) for sentence in sentences]\n",
        "\n",
        "# Convert the tokenized text into n-grams (you can set n to your desired value)\n",
        "n = 3  # Change this to set the n-gram size\n",
        "\n",
        "# Create n-gram model and vocabulary\n",
        "train_data, padded_vocab = padded_everygram_pipeline(n, tokenized_text)\n",
        "lm = Laplace(n)  # Using Laplace smoothing\n",
        "lm.fit(train_data, padded_vocab)\n",
        "\n",
        "# Test sentence\n",
        "test_sentence = \"My name is Ansha Sarwar.\"\n",
        "test_tokens = nltk.word_tokenize(test_sentence)\n",
        "\n",
        "# Calculate perplexity\n",
        "test_data = list(nltk.ngrams(test_tokens, n))  # Convert to a list of n-grams\n",
        "perplexity = lm.perplexity(test_data)\n",
        "print(\"Perplexity:\", perplexity)"
      ],
      "metadata": {
        "colab": {
          "base_uri": "https://localhost:8080/"
        },
        "id": "oiZCwwlEsX0A",
        "outputId": "92e1de5c-124d-44af-84f2-5490e70b4348"
      },
      "execution_count": 52,
      "outputs": [
        {
          "output_type": "stream",
          "name": "stdout",
          "text": [
            "Perplexity: 6.179301431721354\n"
          ]
        }
      ]
    },
    {
      "cell_type": "code",
      "source": [
        "# Other way\n",
        "from transformers import GPT2LMHeadModel, GPT2Tokenizer"
      ],
      "metadata": {
        "id": "WLWHB7lhETOu"
      },
      "execution_count": 53,
      "outputs": []
    },
    {
      "cell_type": "code",
      "source": [
        "# Load pre-trained GPT-2 model and tokenizer\n",
        "tokenizer = GPT2Tokenizer.from_pretrained('gpt2')\n",
        "model = GPT2LMHeadModel.from_pretrained('gpt2')\n",
        "\n",
        "text = \"A confusion matrix is a matrix that summarizes the performance of a machine learning model on a set of test data.\\\n",
        "       It is often used to measure the performance of classification models, which aim to predict a categorical label for each input instance.\\\n",
        "       The matrix displays the number of true positives (TP),\\\n",
        "       true negatives (TN), false positives (FP), and false negatives (FN) produced by the model on the test data.\"\n",
        "\n",
        "# Tokenize the input text and convert it into PyTorch tensors\n",
        "inputs = tokenizer.encode(text, return_tensors='pt')\n",
        "\n",
        "# Generate outputs using the GPT-2 model and calculate the loss\n",
        "outputs = model(inputs, labels=inputs)\n",
        "loss = outputs.loss\n",
        "\n",
        "# Calculate perplexity from the computed loss\n",
        "perplexity = 2 ** loss.item()\n",
        "\n",
        "print(\"Perplexity:\", perplexity)\n"
      ],
      "metadata": {
        "colab": {
          "base_uri": "https://localhost:8080/",
          "height": 226,
          "referenced_widgets": [
            "2fc2f88938164649b75fccade7c4d724",
            "42f3e284e5e945ddafdb09365c4eeff8",
            "7c109de4de424ebb8d08a5b3ffc2e7f5",
            "627dec2c7fac48e2b78775d2ad925de7",
            "8d2098eab00c4b299e9c6ee5b9b77470",
            "e736ac5891d44d7283316159c925d7ec",
            "e02067d6d30149a4b9a8bb296cb5b14d",
            "f4d046bd2c5d48a0b167d337e27539f3",
            "3f063f95ba894637b5d5c17992adf68c",
            "d6d78ef6f36544cba562044e74369630",
            "412da3ea76fa4afcbfa2abe22b61293f",
            "e127259c3b4e418cabad342659217bf7",
            "9010ab8c679c4545b08c6a4b9f1406d2",
            "d97247aecc2048a0a1de34a7ee9e608d",
            "a1dbf3114bde42829ea0a96452da0aa1",
            "e4512ea549eb43218a6bc88b00e1b731",
            "c4f94d3505df4725adf3a4e754f079e3",
            "02ee3506849c4aa3848e6308f91c3ce5",
            "62f8cdf2dfe34073ac5fe7de118d4fa6",
            "df067ce1d045494ea6af7acb92228460",
            "2854e859b4fa4e5abb21a4cd58887ce5",
            "44e01aa369ba45d49ab5cf7e99738d54",
            "c32c8917240e4bac8c48d451fc520c14",
            "8398dcef1272471a86f1bd1896c4c143",
            "ad441812851e43acbe5e30eecfca3033",
            "3cecb390df6f40d2af481541c53a4246",
            "c33c76ad7cb64d0dbff0aaa0900ed92f",
            "f758efc915184c65a0598335371b451c",
            "d7b6789551f44164a4897e283e12571e",
            "5cba5c6c14b0495e9b9bd38ff545164b",
            "a634a74f8dac4abfa7f4dc7a6283b051",
            "8a58632a730b491497e7c90689b32202",
            "4ddee46e352c45c588a925722dcc1080",
            "e7658c78047e42c48e7e5babddf6dd45",
            "d0bc94a4b7ad4685b53c13170db518a6",
            "ba5f792155f94450b488a618456280de",
            "c7259052f3e64bac95114a74ea0f0891",
            "bdb5e924f7e1420fbc82b28ff3bfa6c1",
            "1a456534972d48f9a2f91fc93095105f",
            "cfa5344d310b4c5aacfd639e75817b84",
            "00e4fc8a4e2340dc80be9d07c353a361",
            "567cd2bf52e94f56a407c8f35d133823",
            "20e0c881f68d4263838736c7511406a7",
            "06991e1626c14546a708613dfe7299b7",
            "886733eba1d240c6bd5e9a63179becb7",
            "9ee4dceebfa44de896b61d31ea80d103",
            "e1ccba940a21453ca183bf8d6fbbccb2",
            "399c08f61b03428ea75748864748a1bd",
            "9819f4b104c549308b1f04885e7348d5",
            "87a96b39ff5c402c8b9c695b6da40b3d",
            "144b99c6ba844213aa5f9694224ef86c",
            "bcda50d27f664cafb1ae9361d5f05ebf",
            "7a353bdb5b5841a5afa008fb3dbc3bac",
            "6626b0890bbb4e179552718eb182e869",
            "9b3ddb36c8c844eaa92de7fa2096b3ce",
            "1d9ad084b21348f3bbd8bda978871c32",
            "b4eec0408dd342559927a7cb3573d64b",
            "d5cbe5e135cc466a9853b01c03fd88b8",
            "86875357dfac4c8bb61dc6cd9818d0a2",
            "0fc1734895fe49d1859750694b84fe9c",
            "ed0bc72f276d421381ef1a057eb1f91f",
            "8a42b114f2484c969ff3774d1d79aa4b",
            "c473c62312f94d66835be7ae91e6ee3d",
            "db65a2f05d1b4f26b6c48797dcde842d",
            "91ad024d662347b7841614efd89c6b0b",
            "9be6b4e4b7c4405689713083ccc8fa86"
          ]
        },
        "id": "8Mvg-YTsDySZ",
        "outputId": "be1d9f5a-1caf-4c10-a99c-7685e344000d"
      },
      "execution_count": 54,
      "outputs": [
        {
          "output_type": "display_data",
          "data": {
            "text/plain": [
              "vocab.json:   0%|          | 0.00/1.04M [00:00<?, ?B/s]"
            ],
            "application/vnd.jupyter.widget-view+json": {
              "version_major": 2,
              "version_minor": 0,
              "model_id": "2fc2f88938164649b75fccade7c4d724"
            }
          },
          "metadata": {}
        },
        {
          "output_type": "display_data",
          "data": {
            "text/plain": [
              "merges.txt:   0%|          | 0.00/456k [00:00<?, ?B/s]"
            ],
            "application/vnd.jupyter.widget-view+json": {
              "version_major": 2,
              "version_minor": 0,
              "model_id": "e127259c3b4e418cabad342659217bf7"
            }
          },
          "metadata": {}
        },
        {
          "output_type": "display_data",
          "data": {
            "text/plain": [
              "tokenizer.json:   0%|          | 0.00/1.36M [00:00<?, ?B/s]"
            ],
            "application/vnd.jupyter.widget-view+json": {
              "version_major": 2,
              "version_minor": 0,
              "model_id": "c32c8917240e4bac8c48d451fc520c14"
            }
          },
          "metadata": {}
        },
        {
          "output_type": "display_data",
          "data": {
            "text/plain": [
              "config.json:   0%|          | 0.00/665 [00:00<?, ?B/s]"
            ],
            "application/vnd.jupyter.widget-view+json": {
              "version_major": 2,
              "version_minor": 0,
              "model_id": "e7658c78047e42c48e7e5babddf6dd45"
            }
          },
          "metadata": {}
        },
        {
          "output_type": "display_data",
          "data": {
            "text/plain": [
              "model.safetensors:   0%|          | 0.00/548M [00:00<?, ?B/s]"
            ],
            "application/vnd.jupyter.widget-view+json": {
              "version_major": 2,
              "version_minor": 0,
              "model_id": "886733eba1d240c6bd5e9a63179becb7"
            }
          },
          "metadata": {}
        },
        {
          "output_type": "display_data",
          "data": {
            "text/plain": [
              "generation_config.json:   0%|          | 0.00/124 [00:00<?, ?B/s]"
            ],
            "application/vnd.jupyter.widget-view+json": {
              "version_major": 2,
              "version_minor": 0,
              "model_id": "1d9ad084b21348f3bbd8bda978871c32"
            }
          },
          "metadata": {}
        },
        {
          "output_type": "stream",
          "name": "stdout",
          "text": [
            "Perplexity: 6.712799839565755\n"
          ]
        }
      ]
    },
    {
      "cell_type": "markdown",
      "source": [
        "**Regular Expression Matching**"
      ],
      "metadata": {
        "id": "f3atzv7al9_-"
      }
    },
    {
      "cell_type": "code",
      "source": [
        "import re\n",
        "\n",
        "# Regular expression patterns\n",
        "patterns = [\n",
        "    re.compile(r'[a-zA-Z]+'),  # Alphabetic strings\n",
        "    re.compile(r'^[a-z]*b$'),  # Lowercase alphabetic strings ending in 'b'\n",
        "    re.compile(r'^(b+(ab+)+)$'),  # Strings with 'a' surrounded by 'b's\n",
        "    re.compile(r'\\b([a-zA-Z]+)\\s+\\1\\b'),  # Strings with two consecutive repeated words\n",
        "    re.compile(r'^\\d+\\s\\w+$'),  # Strings starting with an integer and ending with a word\n",
        "    re.compile(r'\\bgrotto\\b.*\\braven\\b|\\braven\\b.*\\bgrotto\\b'),  # Strings with 'grotto' and 'raven'\n",
        "    re.compile(r'^\\W*(\\w+)$')  # First word of an English sentence\n",
        "]\n",
        "\n",
        "# Test strings\n",
        "tests = [\n",
        "    ['hye', '123', '123ai', 'Evelyn', 'wow!!'],\n",
        "    ['gab', 'Evelyn', 'avab', 'Evelyn!'],\n",
        "    ['baba', 'babababa', 'abab', 'Uffff!'],\n",
        "    ['Evelyn Evelyn', 'hye hye', 'the tree', 'good good bad'],\n",
        "    ['505 Evelyn', '05 RollNo', '5Evelyn', 'not 505 Evelyn', 'Yes! Yes!'],\n",
        "    ['grotto raven', 'raven grotto', 'Grottos and ravens', 'Wow! Wow!'],\n",
        "    ['My name is Evelyn', '....so cool', 'Wow!']\n",
        "]\n",
        "\n",
        "# Check each string against respective pattern\n",
        "for idx, pattern in enumerate(patterns, start=1):\n",
        "    print(f\"Pattern {idx}:\")\n",
        "    for test in tests[idx - 1]:\n",
        "        if pattern.match(test):\n",
        "            print(f\"'{test}' matches the pattern.\")\n",
        "        else:\n",
        "            print(f\"'{test}' does not match the pattern.\")\n",
        "    print()\n"
      ],
      "metadata": {
        "colab": {
          "base_uri": "https://localhost:8080/"
        },
        "id": "6OTCERJFmZL7",
        "outputId": "79f3e888-1fc8-4009-a7fd-2220344cca84"
      },
      "execution_count": 56,
      "outputs": [
        {
          "output_type": "stream",
          "name": "stdout",
          "text": [
            "Pattern 1:\n",
            "'hye' matches the pattern.\n",
            "'123' does not match the pattern.\n",
            "'123ai' does not match the pattern.\n",
            "'Evelyn' matches the pattern.\n",
            "'wow!!' matches the pattern.\n",
            "\n",
            "Pattern 2:\n",
            "'gab' matches the pattern.\n",
            "'Evelyn' does not match the pattern.\n",
            "'avab' matches the pattern.\n",
            "'Evelyn!' does not match the pattern.\n",
            "\n",
            "Pattern 3:\n",
            "'baba' does not match the pattern.\n",
            "'babababa' does not match the pattern.\n",
            "'abab' does not match the pattern.\n",
            "'Uffff!' does not match the pattern.\n",
            "\n",
            "Pattern 4:\n",
            "'Evelyn Evelyn' matches the pattern.\n",
            "'hye hye' matches the pattern.\n",
            "'the tree' does not match the pattern.\n",
            "'good good bad' matches the pattern.\n",
            "\n",
            "Pattern 5:\n",
            "'505 Evelyn' matches the pattern.\n",
            "'05 RollNo' matches the pattern.\n",
            "'5Evelyn' does not match the pattern.\n",
            "'not 505 Evelyn' does not match the pattern.\n",
            "'Yes! Yes!' does not match the pattern.\n",
            "\n",
            "Pattern 6:\n",
            "'grotto raven' matches the pattern.\n",
            "'raven grotto' matches the pattern.\n",
            "'Grottos and ravens' does not match the pattern.\n",
            "'Wow! Wow!' does not match the pattern.\n",
            "\n",
            "Pattern 7:\n",
            "'My name is Evelyn' does not match the pattern.\n",
            "'....so cool' does not match the pattern.\n",
            "'Wow!' does not match the pattern.\n",
            "\n"
          ]
        }
      ]
    }
  ]
}